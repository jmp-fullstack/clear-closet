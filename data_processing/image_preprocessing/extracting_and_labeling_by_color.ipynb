{
 "cells": [
  {
   "cell_type": "markdown",
   "metadata": {},
   "source": [
    "# 유사한 색의 옷을 보여주기(with labeling)"
   ]
  },
  {
   "cell_type": "code",
   "execution_count": null,
   "metadata": {},
   "outputs": [],
   "source": [
    "%pip install extcolors"
   ]
  },
  {
   "cell_type": "code",
   "execution_count": 1,
   "metadata": {},
   "outputs": [],
   "source": [
    "# 경로 관리\n",
    "import os\n",
    "# 이미지 출력\n",
    "from IPython.display import Image\n",
    "from PIL import Image as Img\n",
    "import cv2\n",
    "# 색추출\n",
    "import extcolors\n",
    "# 시각화\n",
    "import matplotlib.pyplot as plt\n",
    "# 벡터화(행렬 만들기)\n",
    "import numpy as np"
   ]
  },
  {
   "cell_type": "code",
   "execution_count": 99,
   "metadata": {},
   "outputs": [
    {
     "data": {
      "text/plain": [
       "'./zigzag_image/지그재그테스트1.jpg'"
      ]
     },
     "execution_count": 99,
     "metadata": {},
     "output_type": "execute_result"
    }
   ],
   "source": [
    "# test 전용 path\n",
    "test_path = './zigzag_image/지그재그테스트1.jpg'\n",
    "test_path"
   ]
  },
  {
   "cell_type": "markdown",
   "metadata": {},
   "source": [
    "#### IPython 이미지 불러오기(성공) - extcolors 색 추출 연동(실패)"
   ]
  },
  {
   "cell_type": "code",
   "execution_count": null,
   "metadata": {},
   "outputs": [],
   "source": [
    "# 이미지 보여주기\n",
    "example_img = Image(filename= test_path)\n",
    "example_img\n",
    "\n",
    "# colors, pixel_count = extcolors.extract_from_image(example_img)\n",
    "\n",
    "# print(f'총 픽셀 개수 : {pixel_count}')\n",
    "# print(f'가장 자주 등장한 색(rgb) : {colors[0][0]}')\n",
    "# example_img"
   ]
  },
  {
   "cell_type": "markdown",
   "metadata": {},
   "source": [
    "#### PIL 이미지 불러오기(성공) - extcolors 색 추출 연동(성공)"
   ]
  },
  {
   "cell_type": "code",
   "execution_count": null,
   "metadata": {},
   "outputs": [],
   "source": [
    "example_img = Img.open(test_path)\n",
    "example_img\n",
    "\n",
    "colors, pixel_count = extcolors.extract_from_image(example_img)\n",
    "\n",
    "print(f'총 픽셀 개수 : {pixel_count}')\n",
    "print(f'가장 자주 등장한 색(rgb) : {colors[0][0]}')\n",
    "example_img\n"
   ]
  },
  {
   "cell_type": "markdown",
   "metadata": {},
   "source": [
    "#### cv2 이미지 불러오기(실패)"
   ]
  },
  {
   "cell_type": "code",
   "execution_count": null,
   "metadata": {},
   "outputs": [],
   "source": [
    "# 1. 이미지를 읽고 해석만 해놓기(이미지를 다루기 위한 준비 상태)\n",
    "example_img = cv2.imread(test_path) # ---> path에서 문제점이 발생했다. PIL과 IPython에서는 문제없는 경로였음. 일단 보류할 것\n",
    "\n",
    "\n",
    "if example_img is None : # 이미지를 불러오지 못했다면\n",
    "    print('이미지를 읽지 못했습니다.')\n",
    "else : \n",
    "    print('이미지를 출력하겠습니다')\n",
    "\n",
    "cv2.imshow('test_image', example_img)"
   ]
  },
  {
   "cell_type": "markdown",
   "metadata": {},
   "source": [
    "# rgb 기반 색 추출 및 분류하기"
   ]
  },
  {
   "cell_type": "code",
   "execution_count": 103,
   "metadata": {},
   "outputs": [
    {
     "data": {
      "text/plain": [
       "['./musinsa_image/무신사test1.jpg',\n",
       " './musinsa_image/무신사test2.jpg',\n",
       " './musinsa_image/무신사test3.jpg',\n",
       " './musinsa_image/무신사test4.jpg',\n",
       " './musinsa_image/무신사test5.jpg',\n",
       " './musinsa_image/무신사test6.jpg',\n",
       " './musinsa_image/무신사test7.jpg',\n",
       " './musinsa_image/무신사test8.jpg',\n",
       " './musinsa_image/무신사test9.jpg',\n",
       " './zigzag_image/지그재그테스트1.jpg',\n",
       " './zigzag_image/지그재그테스트2.jpg']"
      ]
     },
     "execution_count": 103,
     "metadata": {},
     "output_type": "execute_result"
    }
   ],
   "source": [
    "# 로컬 경로 모으기\n",
    "categories = ['musinsa_image', 'zigzag_image']\n",
    "# 모든 이미지 경로 \n",
    "all_pathes = [f'./{category}/{image_path}' for category in categories for image_path in os.listdir(f'./{category}')]\n",
    "all_pathes"
   ]
  },
  {
   "cell_type": "code",
   "execution_count": 116,
   "metadata": {},
   "outputs": [],
   "source": [
    "# rgb 범위 지정하기\n",
    "\n",
    "# rbg 범위 정의\n",
    "color_ranges = {\n",
    "    \"red\": ((128, 0, 0), (255, 127, 127)),\n",
    "    \"green\": ((0, 128, 0), (127, 255, 127)),\n",
    "    \"blue\": ((0, 0, 128), (127, 127, 255)),\n",
    "    \"yellow\": ((128, 128, 0), (255, 255, 127)),\n",
    "    \"magenta\": ((128, 0, 128), (255, 127, 255)),\n",
    "    \"cyan\": ((0, 128, 128), (127, 255, 255)),\n",
    "    \"orange\": ((128, 64, 0), (255, 191, 127)),\n",
    "    \"purple\": ((64, 0, 64), (191, 127, 191)),\n",
    "    \"pink\": ((255, 0, 127), (255, 191, 255)),\n",
    "    \"lime\": ((0, 255, 0), (191, 255, 191)),\n",
    "    \"brown\": ((64, 32, 0), (191, 127, 64)),\n",
    "    \"gray\": ((128, 128, 128), (191, 191, 191)),\n",
    "    \"black\": ((0, 0, 0), (63, 63, 63)),\n",
    "    \"white\": ((192, 192, 192), (255, 255, 255))\n",
    "}\n",
    "\n",
    "# rgb 범위 기반으로 메인 색상 추출하기\n",
    "def get_color_name(rgb_value):\n",
    "    for color_name, (lower_bound, upper_bound) in color_ranges.items():\n",
    "        # 특정 색깔 범위에 있으면\n",
    "        if all(lower_bound[i] <= rgb_value[i] <= upper_bound[i] for i in range(3)):\n",
    "            return color_name\n",
    "    return \"UNKNOWN\""
   ]
  },
  {
   "cell_type": "code",
   "execution_count": 118,
   "metadata": {},
   "outputs": [
    {
     "name": "stdout",
     "output_type": "stream",
     "text": [
      "./musinsa_image/무신사test1.jpg의 이미지의 주요 색상은 white입니다\n",
      "./musinsa_image/무신사test2.jpg의 이미지의 주요 색상은 UNKNOWN입니다\n",
      "./musinsa_image/무신사test3.jpg의 이미지의 주요 색상은 white입니다\n",
      "./musinsa_image/무신사test4.jpg의 이미지의 주요 색상은 white입니다\n",
      "./musinsa_image/무신사test5.jpg의 이미지의 주요 색상은 white입니다\n",
      "./musinsa_image/무신사test6.jpg의 이미지의 주요 색상은 cyan입니다\n",
      "./musinsa_image/무신사test7.jpg의 이미지의 주요 색상은 white입니다\n",
      "./musinsa_image/무신사test8.jpg의 이미지의 주요 색상은 white입니다\n",
      "./musinsa_image/무신사test9.jpg의 이미지의 주요 색상은 white입니다\n",
      "./zigzag_image/지그재그테스트1.jpg의 이미지의 주요 색상은 white입니다\n",
      "./zigzag_image/지그재그테스트2.jpg의 이미지의 주요 색상은 white입니다\n"
     ]
    }
   ],
   "source": [
    "for image_path in all_pathes :\n",
    "    img = Img.open(image_path)\n",
    "    colors, pixel_count = extcolors.extract_from_image(img)\n",
    "    print(f'{image_path}의 이미지의 주요 색상은 {get_color_name(colors[0][0])}입니다')\n",
    "\n",
    "    "
   ]
  },
  {
   "cell_type": "code",
   "execution_count": null,
   "metadata": {},
   "outputs": [],
   "source": [
    "example_img = Img.open(test_path)\n",
    "example_img\n",
    "\n",
    "colors, pixel_count = extcolors.extract_from_image(example_img)"
   ]
  }
 ],
 "metadata": {
  "kernelspec": {
   "display_name": "study",
   "language": "python",
   "name": "python3"
  },
  "language_info": {
   "codemirror_mode": {
    "name": "ipython",
    "version": 3
   },
   "file_extension": ".py",
   "mimetype": "text/x-python",
   "name": "python",
   "nbconvert_exporter": "python",
   "pygments_lexer": "ipython3",
   "version": "3.10.13"
  }
 },
 "nbformat": 4,
 "nbformat_minor": 2
}
