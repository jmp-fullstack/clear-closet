{
 "cells": [
  {
   "cell_type": "code",
   "execution_count": 555,
   "metadata": {},
   "outputs": [],
   "source": [
    "# 카테고리 분류 기록\n",
    "# 실제카테고리(효율적인 검색어) : 타켓 카테고리 \n",
    "\n",
    "# 니트 : 니트/스웨터\n",
    "# 후드 : 후드티셔츠\n",
    "# 맨투맨 : 맨투맨/스웻셔츠 \n",
    "# 셔츠블라우스(와이셔츠, 블라우스) : 셔츠, 셔츠/블라우스\n",
    "# 긴소매티셔츠(롱슬리브) : 티셔츠, 맨투맨/스웻셔츠, 스포츠 상의 \n",
    "# 반소매티셔츠(반팔) : 티셔츠 , 스포츠 상의  -> 카라 미포함\n",
    "# 민소매티셔츠(나시티) : 제약 없이 일단 -> 애매 \n",
    "# 카라티셔츠 : 티셔츠, 골프웨어 상의\n",
    "# 베스트(니트베스트) : 조끼, 니트/스웨터, 골프 용품, 골프웨어 상의\n",
    "\n",
    "# 데님팬츠(청바지) : 바지\n",
    "# 슬랙스 : 바지, 슬랙스\n",
    "# 트레이닝조거팬츠(트레이닝바지, 조거팬츠) : 스포츠 하의 , 스웻팬츠, 바지\n",
    "# 숏팬츠(반바지) : 반바지, 바지, 골프웨어 하의, 스포츠 하의, 스웻팬츠\n",
    "# 코튼팬츠(면바지) : 바지, 골프웨어 하의 \n",
    "# 레깅스 : 바지,스포츠 하의, 스포츠 웨어, 팬츠/레깅스\n",
    "# 와이드팬츠 -> 삭제\n",
    "\n",
    "# 후드집업 : 후드티셔츠, 점퍼/자켓\n",
    "# 바람막이 : 점퍼/자켓, 스포츠 상의\n",
    "# 코트 : 코트\n",
    "# 롱패딩 : 패딩, 점퍼/자켓\n",
    "# 숏패딩 : 패딩, 점퍼/자켓\n",
    "# 패딩베스트(패딩조끼) : 조끼, 패딩\n",
    "# 블루종 : 점퍼/자켓\n",
    "# 레더자켓(가죽자켓) : 점퍼/자켓\n",
    "\n",
    "\n",
    "\n",
    "\n",
    "\n",
    "\n",
    "\n",
    "\n",
    "\n",
    "\n",
    "# api 정리\n",
    "# 블루종 : https://www.hellomarket.com/api/search/item/categories?q=%EB%B8%94%EB%A3%A8%EC%A2%85&page=1&startTime=1720063072327&categoryId=\n",
    "\n"
   ]
  },
  {
   "cell_type": "markdown",
   "metadata": {},
   "source": [
    "# 실전용 "
   ]
  },
  {
   "cell_type": "code",
   "execution_count": 210,
   "metadata": {},
   "outputs": [],
   "source": [
    "import requests\n",
    "from bs4 import BeautifulSoup\n",
    "import pandas as pd"
   ]
  },
  {
   "cell_type": "code",
   "execution_count": 608,
   "metadata": {},
   "outputs": [
    {
     "ename": "JSONDecodeError",
     "evalue": "Expecting value: line 1 column 1 (char 0)",
     "output_type": "error",
     "traceback": [
      "\u001b[1;31m---------------------------------------------------------------------------\u001b[0m",
      "\u001b[1;31mJSONDecodeError\u001b[0m                           Traceback (most recent call last)",
      "File \u001b[1;32mc:\\Users\\SDA02\\anaconda3\\envs\\study\\lib\\site-packages\\requests\\models.py:971\u001b[0m, in \u001b[0;36mResponse.json\u001b[1;34m(self, **kwargs)\u001b[0m\n\u001b[0;32m    970\u001b[0m \u001b[38;5;28;01mtry\u001b[39;00m:\n\u001b[1;32m--> 971\u001b[0m     \u001b[38;5;28;01mreturn\u001b[39;00m complexjson\u001b[38;5;241m.\u001b[39mloads(\u001b[38;5;28mself\u001b[39m\u001b[38;5;241m.\u001b[39mtext, \u001b[38;5;241m*\u001b[39m\u001b[38;5;241m*\u001b[39mkwargs)\n\u001b[0;32m    972\u001b[0m \u001b[38;5;28;01mexcept\u001b[39;00m JSONDecodeError \u001b[38;5;28;01mas\u001b[39;00m e:\n\u001b[0;32m    973\u001b[0m     \u001b[38;5;66;03m# Catch JSON-related errors and raise as requests.JSONDecodeError\u001b[39;00m\n\u001b[0;32m    974\u001b[0m     \u001b[38;5;66;03m# This aliases json.JSONDecodeError and simplejson.JSONDecodeError\u001b[39;00m\n",
      "File \u001b[1;32mc:\\Users\\SDA02\\anaconda3\\envs\\study\\lib\\json\\__init__.py:346\u001b[0m, in \u001b[0;36mloads\u001b[1;34m(s, cls, object_hook, parse_float, parse_int, parse_constant, object_pairs_hook, **kw)\u001b[0m\n\u001b[0;32m    343\u001b[0m \u001b[38;5;28;01mif\u001b[39;00m (\u001b[38;5;28mcls\u001b[39m \u001b[38;5;129;01mis\u001b[39;00m \u001b[38;5;28;01mNone\u001b[39;00m \u001b[38;5;129;01mand\u001b[39;00m object_hook \u001b[38;5;129;01mis\u001b[39;00m \u001b[38;5;28;01mNone\u001b[39;00m \u001b[38;5;129;01mand\u001b[39;00m\n\u001b[0;32m    344\u001b[0m         parse_int \u001b[38;5;129;01mis\u001b[39;00m \u001b[38;5;28;01mNone\u001b[39;00m \u001b[38;5;129;01mand\u001b[39;00m parse_float \u001b[38;5;129;01mis\u001b[39;00m \u001b[38;5;28;01mNone\u001b[39;00m \u001b[38;5;129;01mand\u001b[39;00m\n\u001b[0;32m    345\u001b[0m         parse_constant \u001b[38;5;129;01mis\u001b[39;00m \u001b[38;5;28;01mNone\u001b[39;00m \u001b[38;5;129;01mand\u001b[39;00m object_pairs_hook \u001b[38;5;129;01mis\u001b[39;00m \u001b[38;5;28;01mNone\u001b[39;00m \u001b[38;5;129;01mand\u001b[39;00m \u001b[38;5;129;01mnot\u001b[39;00m kw):\n\u001b[1;32m--> 346\u001b[0m     \u001b[38;5;28;01mreturn\u001b[39;00m \u001b[43m_default_decoder\u001b[49m\u001b[38;5;241;43m.\u001b[39;49m\u001b[43mdecode\u001b[49m\u001b[43m(\u001b[49m\u001b[43ms\u001b[49m\u001b[43m)\u001b[49m\n\u001b[0;32m    347\u001b[0m \u001b[38;5;28;01mif\u001b[39;00m \u001b[38;5;28mcls\u001b[39m \u001b[38;5;129;01mis\u001b[39;00m \u001b[38;5;28;01mNone\u001b[39;00m:\n",
      "File \u001b[1;32mc:\\Users\\SDA02\\anaconda3\\envs\\study\\lib\\json\\decoder.py:337\u001b[0m, in \u001b[0;36mJSONDecoder.decode\u001b[1;34m(self, s, _w)\u001b[0m\n\u001b[0;32m    333\u001b[0m \u001b[38;5;250m\u001b[39m\u001b[38;5;124;03m\"\"\"Return the Python representation of ``s`` (a ``str`` instance\u001b[39;00m\n\u001b[0;32m    334\u001b[0m \u001b[38;5;124;03mcontaining a JSON document).\u001b[39;00m\n\u001b[0;32m    335\u001b[0m \n\u001b[0;32m    336\u001b[0m \u001b[38;5;124;03m\"\"\"\u001b[39;00m\n\u001b[1;32m--> 337\u001b[0m obj, end \u001b[38;5;241m=\u001b[39m \u001b[38;5;28;43mself\u001b[39;49m\u001b[38;5;241;43m.\u001b[39;49m\u001b[43mraw_decode\u001b[49m\u001b[43m(\u001b[49m\u001b[43ms\u001b[49m\u001b[43m,\u001b[49m\u001b[43m \u001b[49m\u001b[43midx\u001b[49m\u001b[38;5;241;43m=\u001b[39;49m\u001b[43m_w\u001b[49m\u001b[43m(\u001b[49m\u001b[43ms\u001b[49m\u001b[43m,\u001b[49m\u001b[43m \u001b[49m\u001b[38;5;241;43m0\u001b[39;49m\u001b[43m)\u001b[49m\u001b[38;5;241;43m.\u001b[39;49m\u001b[43mend\u001b[49m\u001b[43m(\u001b[49m\u001b[43m)\u001b[49m\u001b[43m)\u001b[49m\n\u001b[0;32m    338\u001b[0m end \u001b[38;5;241m=\u001b[39m _w(s, end)\u001b[38;5;241m.\u001b[39mend()\n",
      "File \u001b[1;32mc:\\Users\\SDA02\\anaconda3\\envs\\study\\lib\\json\\decoder.py:355\u001b[0m, in \u001b[0;36mJSONDecoder.raw_decode\u001b[1;34m(self, s, idx)\u001b[0m\n\u001b[0;32m    354\u001b[0m \u001b[38;5;28;01mexcept\u001b[39;00m \u001b[38;5;167;01mStopIteration\u001b[39;00m \u001b[38;5;28;01mas\u001b[39;00m err:\n\u001b[1;32m--> 355\u001b[0m     \u001b[38;5;28;01mraise\u001b[39;00m JSONDecodeError(\u001b[38;5;124m\"\u001b[39m\u001b[38;5;124mExpecting value\u001b[39m\u001b[38;5;124m\"\u001b[39m, s, err\u001b[38;5;241m.\u001b[39mvalue) \u001b[38;5;28;01mfrom\u001b[39;00m \u001b[38;5;28;01mNone\u001b[39;00m\n\u001b[0;32m    356\u001b[0m \u001b[38;5;28;01mreturn\u001b[39;00m obj, end\n",
      "\u001b[1;31mJSONDecodeError\u001b[0m: Expecting value: line 1 column 1 (char 0)",
      "\nDuring handling of the above exception, another exception occurred:\n",
      "\u001b[1;31mJSONDecodeError\u001b[0m                           Traceback (most recent call last)",
      "Cell \u001b[1;32mIn[608], line 7\u001b[0m\n\u001b[0;32m      4\u001b[0m headers \u001b[38;5;241m=\u001b[39m {\u001b[38;5;124m'\u001b[39m\u001b[38;5;124mUser-Agent\u001b[39m\u001b[38;5;124m'\u001b[39m: \u001b[38;5;124m'\u001b[39m\u001b[38;5;124mMozilla/5.0 (Windows NT 10.0; Win64; x64) AppleWebKit/537.36 (KHTML, like Gecko) Chrome/126.0.0.0 Safari/537.36\u001b[39m\u001b[38;5;124m'\u001b[39m,\n\u001b[0;32m      5\u001b[0m            \u001b[38;5;124m'\u001b[39m\u001b[38;5;124mAccept\u001b[39m\u001b[38;5;124m'\u001b[39m:\u001b[38;5;124m'\u001b[39m\u001b[38;5;124mapplication/json, text/plain, */*\u001b[39m\u001b[38;5;124m'\u001b[39m}\n\u001b[0;32m      6\u001b[0m res \u001b[38;5;241m=\u001b[39m requests\u001b[38;5;241m.\u001b[39mget(url, headers\u001b[38;5;241m=\u001b[39mheaders)\n\u001b[1;32m----> 7\u001b[0m all_info_dict \u001b[38;5;241m=\u001b[39m \u001b[43mres\u001b[49m\u001b[38;5;241;43m.\u001b[39;49m\u001b[43mjson\u001b[49m\u001b[43m(\u001b[49m\u001b[43m)\u001b[49m\n\u001b[0;32m      8\u001b[0m res\u001b[38;5;241m.\u001b[39mstatus_code\n",
      "File \u001b[1;32mc:\\Users\\SDA02\\anaconda3\\envs\\study\\lib\\site-packages\\requests\\models.py:975\u001b[0m, in \u001b[0;36mResponse.json\u001b[1;34m(self, **kwargs)\u001b[0m\n\u001b[0;32m    971\u001b[0m     \u001b[38;5;28;01mreturn\u001b[39;00m complexjson\u001b[38;5;241m.\u001b[39mloads(\u001b[38;5;28mself\u001b[39m\u001b[38;5;241m.\u001b[39mtext, \u001b[38;5;241m*\u001b[39m\u001b[38;5;241m*\u001b[39mkwargs)\n\u001b[0;32m    972\u001b[0m \u001b[38;5;28;01mexcept\u001b[39;00m JSONDecodeError \u001b[38;5;28;01mas\u001b[39;00m e:\n\u001b[0;32m    973\u001b[0m     \u001b[38;5;66;03m# Catch JSON-related errors and raise as requests.JSONDecodeError\u001b[39;00m\n\u001b[0;32m    974\u001b[0m     \u001b[38;5;66;03m# This aliases json.JSONDecodeError and simplejson.JSONDecodeError\u001b[39;00m\n\u001b[1;32m--> 975\u001b[0m     \u001b[38;5;28;01mraise\u001b[39;00m RequestsJSONDecodeError(e\u001b[38;5;241m.\u001b[39mmsg, e\u001b[38;5;241m.\u001b[39mdoc, e\u001b[38;5;241m.\u001b[39mpos)\n",
      "\u001b[1;31mJSONDecodeError\u001b[0m: Expecting value: line 1 column 1 (char 0)"
     ]
    }
   ],
   "source": [
    "# url = f'https://www.hellomarket.com/api/search/items?q=무스탕&page=1&limit=100'\n",
    "url = 'https://www.hellomarket.com/search?q=%EB%AC%B4%EC%8A%A4%ED%83%95'\n",
    "\n",
    "headers = {'User-Agent': 'Mozilla/5.0 (Windows NT 10.0; Win64; x64) AppleWebKit/537.36 (KHTML, like Gecko) Chrome/126.0.0.0 Safari/537.36',\n",
    "           'Accept':'application/json, text/plain, */*'}\n",
    "res = requests.get(url, headers=headers)\n",
    "all_info_dict = res.json()\n",
    "res.status_code"
   ]
  },
  {
   "cell_type": "code",
   "execution_count": 601,
   "metadata": {},
   "outputs": [],
   "source": [
    "ct = []\n",
    "for one in all_info_dict['list'] :\n",
    "    ct.append(one['categories'][1]['name'])\n"
   ]
  },
  {
   "cell_type": "code",
   "execution_count": 602,
   "metadata": {},
   "outputs": [
    {
     "name": "stdout",
     "output_type": "stream",
     "text": [
      "100 100\n",
      "['패딩', '점퍼/자켓', '점퍼/자켓', '점퍼/자켓', '점퍼/자켓', '점퍼/자켓', '점퍼/자켓', '점퍼/자켓', '점퍼/자켓', '코트', '점퍼/자켓', '코트', '코트', '코트', '코트', '스포츠 하의', '점퍼/자켓', '점퍼/자켓', '점퍼/자켓', '셔츠/블라우스', '점퍼/자켓', '점퍼/자켓', '점퍼/자켓', '점퍼/자켓', '점퍼/자켓', '점퍼/자켓', '점퍼/자켓', '점퍼/자켓', '원피스', '점퍼/자켓', '점퍼/자켓', '점퍼/자켓', '점퍼/자켓', '점퍼/자켓', '점퍼/자켓', '점퍼/자켓', '점퍼/자켓', '점퍼/자켓', '점퍼/자켓', '점퍼/자켓', '원피스', '점퍼/자켓', '점퍼/자켓', '점퍼/자켓', '점퍼/자켓', '점퍼/자켓', '점퍼/자켓', '점퍼/자켓', '점퍼/자켓', '점퍼/자켓', '점퍼/자켓', '점퍼/자켓', '점퍼/자켓', '점퍼/자켓', '점퍼/자켓', '코트', '점퍼/자켓', '카디건', '점퍼/자켓', '코트', '점퍼/자켓', '점퍼/자켓', '점퍼/자켓', '점퍼/자켓', '점퍼/자켓', '점퍼/자켓', '점퍼/자켓', '점퍼/자켓', '점퍼/자켓', '점퍼/자켓', '점퍼/자켓', '점퍼/자켓', '카디건', '점퍼/자켓', '점퍼/자켓', '점퍼/자켓', '점퍼/자켓', '코트', '점퍼/자켓', '점퍼/자켓', '셔츠', '점퍼/자켓', '점퍼/자켓', '점퍼/자켓', '코트', '점퍼/자켓', '점퍼/자켓', '점퍼/자켓', '점퍼/자켓', '점퍼/자켓', '점퍼/자켓', '점퍼/자켓', '원피스', '점퍼/자켓', '점퍼/자켓', '점퍼/자켓', '점퍼/자켓', '점퍼/자켓', '점퍼/자켓', '점퍼/자켓']\n"
     ]
    },
    {
     "data": {
      "text/plain": [
       "{'itemIdx': 179219571,\n",
       " 'title': '나이키 우븐 플레이어 블루종 자켓 XL',\n",
       " 'categories': [{'id': 'HAB0000', 'name': '남성 의류'},\n",
       "  {'id': 'HAB0010', 'name': '점퍼/자켓'}],\n",
       " 'price': 80000,\n",
       " 'sellMethod': {'code': 'Sell', 'name': '판매'},\n",
       " 'type': {'code': 'Norm', 'name': '일반'},\n",
       " 'sellState': {'code': 'ForSale', 'name': '판매중'},\n",
       " 'usedType': {'code': 'Secondhand', 'name': '사용감 있는 깨끗한 상품'},\n",
       " 'timestamp': 1720040031743,\n",
       " 'linkUrl': 'hellomarket://hellomarket.api/item/179219571',\n",
       " 'imageUrl': 'https://ccimg.hellomarket.com/images/2024/item/01/15/14/0907795_3987528_1.jpg?size=s4',\n",
       " 'count': {'wish': 1},\n",
       " 'brand': {'brandIdx': 568, 'korean': '나이키', 'english': 'Nike'},\n",
       " 'clothesSize': {'sizeIdx': 45, 'name': 'XL'},\n",
       " 'hasDeliveryFee': False,\n",
       " 'isFreeCharge': False,\n",
       " 'isWish': False}"
      ]
     },
     "execution_count": 602,
     "metadata": {},
     "output_type": "execute_result"
    }
   ],
   "source": [
    "print(len(all_info_dict['list']), len(ct))\n",
    "print(ct)\n",
    "\n",
    "all_info_dict['list'][2]"
   ]
  },
  {
   "cell_type": "code",
   "execution_count": 603,
   "metadata": {},
   "outputs": [
    {
     "data": {
      "text/plain": [
       "{'itemIdx': 179875114,\n",
       " 'title': \"오즈세컨 O'2nd 도트 쉬폰 블루종 자켓\",\n",
       " 'categories': [{'id': 'HAA0000', 'name': '여성 의류'},\n",
       "  {'id': 'HAA0012', 'name': '점퍼/자켓'}],\n",
       " 'price': 75000,\n",
       " 'sellMethod': {'code': 'Sell', 'name': '판매'},\n",
       " 'type': {'code': 'Norm', 'name': '일반'},\n",
       " 'sellState': {'code': 'ForSale', 'name': '판매중'},\n",
       " 'usedType': {'code': 'AsNew', 'name': '거의 새상품'},\n",
       " 'timestamp': 1720043100782,\n",
       " 'linkUrl': 'hellomarket://hellomarket.api/item/179875114',\n",
       " 'imageUrl': 'https://ccimg.hellomarket.com/images/2024/item/03/05/18/1352571_5949460_1.jpg?size=s4',\n",
       " 'count': {'wish': 0},\n",
       " 'brand': {'brandIdx': 742, 'korean': '오즈세컨', 'english': \"O'2nd\"},\n",
       " 'clothesSize': {'sizeIdx': 13, 'name': 'S'},\n",
       " 'hasDeliveryFee': False,\n",
       " 'isFreeCharge': True,\n",
       " 'isWish': False}"
      ]
     },
     "execution_count": 603,
     "metadata": {},
     "output_type": "execute_result"
    }
   ],
   "source": [
    "n = ct.index('점퍼/자켓')\n",
    "all_info_dict['list'][n]"
   ]
  },
  {
   "cell_type": "code",
   "execution_count": 604,
   "metadata": {},
   "outputs": [
    {
     "data": {
      "text/plain": [
       "Counter({'점퍼/자켓': 82,\n",
       "         '코트': 9,\n",
       "         '원피스': 3,\n",
       "         '카디건': 2,\n",
       "         '패딩': 1,\n",
       "         '스포츠 하의': 1,\n",
       "         '셔츠/블라우스': 1,\n",
       "         '셔츠': 1})"
      ]
     },
     "execution_count": 604,
     "metadata": {},
     "output_type": "execute_result"
    }
   ],
   "source": [
    "from collections import Counter \n",
    "Counter(ct)"
   ]
  },
  {
   "cell_type": "code",
   "execution_count": null,
   "metadata": {},
   "outputs": [],
   "source": []
  },
  {
   "cell_type": "code",
   "execution_count": null,
   "metadata": {},
   "outputs": [],
   "source": []
  },
  {
   "cell_type": "code",
   "execution_count": null,
   "metadata": {},
   "outputs": [],
   "source": []
  },
  {
   "cell_type": "code",
   "execution_count": null,
   "metadata": {},
   "outputs": [],
   "source": []
  },
  {
   "cell_type": "code",
   "execution_count": null,
   "metadata": {},
   "outputs": [],
   "source": [
    "\n",
    "categories = {\n",
    "    '상의' : ['니트', '후드', '맨투맨','셔츠블라우스','긴소매티셔츠','반소매티셔츠','민소매티셔츠','카라티셔츠','베스트'],\n",
    "    '바지' : ['데님팬츠', '슬랙스','트레이닝조거팬츠','숏팬츠','코튼팬츠','레깅스', '와이드팬츠'],\n",
    "    '아우터' : ['후드집업', '바람막이', '코트', '롱패딩', '숏패딩', '패딩베스트', '블루종', \n",
    "                '레더자켓', '무스탕', '트러커자켓', '블레이저', '가디건','뽀글이후리스','사파리자켓'],\n",
    "    '원피스' : ['미니원피스', '미디원피스', '투피스', '롱원피스', '점프수트'],\n",
    "    '스커트' : ['미니스커트', '미디스커트', '롱스커트']}\n",
    "\n",
    "\n",
    "\n",
    "def secondwear_crawler(categories) :\n",
    "\n",
    "    headers = {'User-Agent': 'Mozilla/5.0 (Windows NT 10.0; Win64; x64) AppleWebKit/537.36 (KHTML, like Gecko) Chrome/126.0.0.0 Safari/537.36'}\n",
    "\n",
    "    csv_base_path = './db_data_to_insert_csv/'\n",
    "\n",
    "    dataframes = []\n",
    "\n",
    "    for main,subs  in categories.items() :\n",
    "        for sub in subs :\n",
    "            print(f'{sub} 크롤링 중 ...')\n",
    "            title,price,connect_url,product_type,status,brand,top,bottom,color,size,product_url = [[] for _ in range(11)]\n",
    "            for page in range(1, 9) :\n",
    "\n",
    "                url = f'https://www.hellomarket.com/api/search/items?q={sub}&page={page}&limit=30'\n",
    "\n",
    "                res = requests.get(url, headers=headers)\n",
    "                all_info_dict = res.json()\n",
    "\n",
    "                product_info_list = all_info_dict['list']\n",
    "\n",
    "                for product_info in product_info_list :\n",
    "                    # 제목\n",
    "                    p_title = product_info['title']\n",
    "\n",
    "                    # 상품가격\n",
    "                    p_price = product_info['price']\n",
    "                    \n",
    "                    # 판매처 url\n",
    "                    p_connect_url = product_info['linkUrl']\n",
    "                    \n",
    "                    # 상품타입\n",
    "                    p_type = 0\n",
    "                    \n",
    "                    # 상품상태\n",
    "                    p_status = product_info['usedType']['name']\n",
    "                    \n",
    "                    # 브랜드\n",
    "                    try:\n",
    "                        p_brand = product_info['brand']['korean']\n",
    "                    except:\n",
    "                        p_brand = 'NO BRAND'\n",
    "                    # 상위 카테고리\n",
    "                    p_top = f'{main}'\n",
    "                    \n",
    "                    # 하위 카테고리\n",
    "                    p_bottom = f'{sub}'\n",
    "                    \n",
    "                    # 색깔\n",
    "                    p_color = 'null'\n",
    "\n",
    "                    # 사이즈\n",
    "                    try :\n",
    "                        p_size = product_info['clothesSize']['name']\n",
    "                    except :\n",
    "                        p_size = 'FREE'\n",
    "                    \n",
    "                    # 상품이미지 url\n",
    "                    p_product_url = product_info['imageUrl']\n",
    "\n",
    "                    # 반영\n",
    "                    title.append(p_title)\n",
    "                    price.append(p_price)\n",
    "                    connect_url.append(p_connect_url)\n",
    "                    product_type.append(p_type)\n",
    "                    status.append(p_status)\n",
    "                    brand.append(p_brand)\n",
    "                    top.append(p_top)\n",
    "                    bottom.append(p_bottom)\n",
    "                    color.append(p_color)\n",
    "                    size.append(p_size)\n",
    "                    product_url.append(p_product_url)\n",
    "            df = pd.DataFrame({\n",
    "                'title' : title,\n",
    "                'price' : price,\n",
    "                'connect_url' : connect_url,\n",
    "                'type' : product_type,\n",
    "                'status' : status,\n",
    "                'brand' : brand,\n",
    "                'top_category' : top,\n",
    "                'bottom_category' : bottom,\n",
    "                'color' : color,\n",
    "                'size' : size,\n",
    "                'product_url' : product_url,\n",
    "                })  \n",
    "\n",
    "            dataframes.append(df)  \n",
    "\n",
    "\n",
    "    final_df = pd.concat(dataframes, axis = 0, ignore_index=True)\n",
    "    final_df['connect_url'] = [f'https://www.hellomarket.com/item/{connect_url.split(\"/\")[-1]}?viewLocation=search_result' for connect_url in final_df['connect_url']]\n",
    "\n",
    "    print(final_df)\n",
    "\n",
    "    final_df.to_csv(csv_base_path + 'secondwear_data2.csv', index=False)   "
   ]
  }
 ],
 "metadata": {
  "kernelspec": {
   "display_name": "base",
   "language": "python",
   "name": "python3"
  },
  "language_info": {
   "codemirror_mode": {
    "name": "ipython",
    "version": 3
   },
   "file_extension": ".py",
   "mimetype": "text/x-python",
   "name": "python",
   "nbconvert_exporter": "python",
   "pygments_lexer": "ipython3",
   "version": "3.10.13"
  }
 },
 "nbformat": 4,
 "nbformat_minor": 2
}
