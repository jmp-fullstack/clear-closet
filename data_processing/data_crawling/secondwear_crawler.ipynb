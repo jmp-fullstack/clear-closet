{
 "cells": [
  {
   "cell_type": "code",
   "execution_count": 1,
   "metadata": {},
   "outputs": [],
   "source": [
    "import requests\n",
    "from bs4 import BeautifulSoup\n",
    "\n",
    "\n",
    "from selenium import webdriver\n",
    "from selenium.webdriver.chrome.service import Service\n",
    "from webdriver_manager.chrome import ChromeDriverManager\n",
    "from selenium.webdriver.common.by import By\n",
    "from selenium.webdriver.common.keys import Keys\n",
    "from selenium.webdriver.support.ui import WebDriverWait\n",
    "\n",
    "import re\n",
    "import time\n",
    "\n",
    "import csv\n",
    "\n",
    "from tqdm import tqdm\n",
    "\n",
    "import json\n",
    "\n",
    "import pandas as pd"
   ]
  },
  {
   "cell_type": "markdown",
   "metadata": {},
   "source": [
    "# 실전용 "
   ]
  },
  {
   "cell_type": "code",
   "execution_count": 2,
   "metadata": {},
   "outputs": [],
   "source": [
    "# 창 띄우기\n",
    "driver = webdriver.Chrome(service=Service(ChromeDriverManager().install()))"
   ]
  },
  {
   "cell_type": "code",
   "execution_count": null,
   "metadata": {},
   "outputs": [],
   "source": [
    "# categories = {\n",
    "#     '상의' : ['니트', '후드', '맨투맨','와이셔츠','블라우스','긴소매 티셔츠','반소매 티셔츠','민소매 티셔츠','카라 티셔츠','베스트'],\n",
    "#     '바지' : ['데님 팬츠', '슬랙스','트레이닝바지','조거팬츠','숏팬츠','코튼 팬츠','레깅스', '와이드 팬츠'],\n",
    "#     '아우터' : ['후드 집업', '바람막이', '코트', '롱패딩', '숏패딩', '패딩 베스트', '블루종/MA-1', \n",
    "#                 '레더 자켓', '무스탕', '트러커 자켓', '블레이저', '가디건','뽀글이 후리스','사파리 자켓'],\n",
    "#     '원피스' : ['미니 원피스', '미디 원피스', '투피스', '롱원피스', '점프수트'],\n",
    "#     '스커트' : ['미니 스커트', '미디 스커트', '롱 스커트'],\n",
    "# }"
   ]
  },
  {
   "cell_type": "code",
   "execution_count": 3,
   "metadata": {},
   "outputs": [],
   "source": [
    "categories = {\n",
    "    '상의' : ['카라 티셔츠','베스트'],\n",
    "    '바지' : ['데님 팬츠', '슬랙스','트레이닝바지','조거팬츠','숏팬츠','코튼 팬츠','레깅스', '와이드 팬츠'],\n",
    "    '아우터' : ['후드 집업', '바람막이', '코트', '롱패딩', '숏패딩', '패딩 베스트', '블루종', \n",
    "                '레더 자켓', '무스탕', '트러커 자켓', '블레이저', '가디건','뽀글이 후리스','사파리 자켓'],\n",
    "    '원피스' : ['미니 원피스', '미디 원피스', '투피스', '롱원피스', '점프수트'],\n",
    "    '스커트' : ['미니 스커트', '미디 스커트', '롱 스커트']\n",
    "}\n",
    "\n",
    "\n",
    "# 완료\n",
    "\n",
    "# 상의 : [후드, 맨투맨, 와이셔츠, 블라우스, 긴소매티셔츠, 민소매 티셔츠]\n"
   ]
  },
  {
   "cell_type": "markdown",
   "metadata": {},
   "source": [
    "- 검색 화면 진입 후 결과 추출하기\n",
    "\n",
    "- 필요 정보 들 추출하기\n",
    "\n",
    "- 가장 큰 박스 : div[class=\"sc-2e746fd3-0 loRRgN\"]\n",
    "\n",
    "    - 작은 박스 1 : div[class=\"sc-2e746fd3-1 gHhzqc\"] -> connect_url, 이미지_url\n",
    "        - connect_url : a[href]\n",
    "            - 이미지_url : connect_url의 a[href] > div > img[class=\"sc-b34a2ec2-0 bOxxOH\"] \n",
    "    \n",
    "    \n",
    "    - 작은 박스 2 : div[class=\"sc-2e746fd3-6 cVhNfy\"] -> 가격, 제목\n",
    "\n",
    "        - 가격 : div[class=\"sc-2e746fd3-5 laAErS\"]\n",
    "        - 제목 : div[class=\"sc-2e746fd3-5 RmlFc\"]"
   ]
  },
  {
   "cell_type": "code",
   "execution_count": 15,
   "metadata": {},
   "outputs": [
    {
     "name": "stdout",
     "output_type": "stream",
     "text": [
      "상의_니트_1번 스크롤 다운 진행중...\n",
      "상의_니트_2번 스크롤 다운 진행중...\n",
      "상의_니트_3번 스크롤 다운 진행중...\n",
      "상의_니트_4번 스크롤 다운 진행중...\n",
      "상의_니트_5번 스크롤 다운 진행중...\n",
      "상의_니트_6번 스크롤 다운 진행중...\n",
      "상의_니트_7번 스크롤 다운 진행중...\n",
      "상의_니트_8번 스크롤 다운 진행중...\n",
      "상의_니트_9번 스크롤 다운 진행중...\n",
      "상의_니트_10번 스크롤 다운 진행중...\n",
      "곧 크롤링 시작\n"
     ]
    },
    {
     "name": "stderr",
     "output_type": "stream",
     "text": [
      "100%|██████████| 330/330 [00:13<00:00, 24.77it/s]\n"
     ]
    },
    {
     "name": "stdout",
     "output_type": "stream",
     "text": [
      "상의_니트 완료 : 탐색 제품 수 -> 157 \n",
      "상의_반소매 티셔츠_1번 스크롤 다운 진행중...\n",
      "상의_반소매 티셔츠_2번 스크롤 다운 진행중...\n",
      "상의_반소매 티셔츠_3번 스크롤 다운 진행중...\n",
      "상의_반소매 티셔츠_4번 스크롤 다운 진행중...\n",
      "상의_반소매 티셔츠_5번 스크롤 다운 진행중...\n",
      "상의_반소매 티셔츠_6번 스크롤 다운 진행중...\n",
      "상의_반소매 티셔츠_7번 스크롤 다운 진행중...\n",
      "상의_반소매 티셔츠_8번 스크롤 다운 진행중...\n",
      "상의_반소매 티셔츠_9번 스크롤 다운 진행중...\n",
      "상의_반소매 티셔츠_10번 스크롤 다운 진행중...\n",
      "곧 크롤링 시작\n"
     ]
    },
    {
     "name": "stderr",
     "output_type": "stream",
     "text": [
      "100%|██████████| 270/270 [00:11<00:00, 24.18it/s]\n"
     ]
    },
    {
     "name": "stdout",
     "output_type": "stream",
     "text": [
      "상의_반소매 티셔츠 완료 : 탐색 제품 수 -> 168 \n",
      "상의_카라 티셔츠_1번 스크롤 다운 진행중...\n",
      "상의_카라 티셔츠_2번 스크롤 다운 진행중...\n",
      "상의_카라 티셔츠_3번 스크롤 다운 진행중...\n",
      "상의_카라 티셔츠_4번 스크롤 다운 진행중...\n",
      "상의_카라 티셔츠_5번 스크롤 다운 진행중...\n",
      "상의_카라 티셔츠_6번 스크롤 다운 진행중...\n",
      "상의_카라 티셔츠_7번 스크롤 다운 진행중...\n",
      "상의_카라 티셔츠_8번 스크롤 다운 진행중...\n",
      "상의_카라 티셔츠_9번 스크롤 다운 진행중...\n",
      "상의_카라 티셔츠_10번 스크롤 다운 진행중...\n",
      "곧 크롤링 시작\n"
     ]
    },
    {
     "name": "stderr",
     "output_type": "stream",
     "text": [
      "100%|██████████| 180/180 [00:07<00:00, 23.98it/s]\n"
     ]
    },
    {
     "name": "stdout",
     "output_type": "stream",
     "text": [
      "상의_카라 티셔츠 완료 : 탐색 제품 수 -> 73 \n",
      "상의_베스트_1번 스크롤 다운 진행중...\n",
      "상의_베스트_2번 스크롤 다운 진행중...\n",
      "상의_베스트_3번 스크롤 다운 진행중...\n",
      "상의_베스트_4번 스크롤 다운 진행중...\n",
      "상의_베스트_5번 스크롤 다운 진행중...\n"
     ]
    },
    {
     "ename": "KeyboardInterrupt",
     "evalue": "",
     "output_type": "error",
     "traceback": [
      "\u001b[1;31m---------------------------------------------------------------------------\u001b[0m",
      "\u001b[1;31mKeyboardInterrupt\u001b[0m                         Traceback (most recent call last)",
      "Cell \u001b[1;32mIn[15], line 40\u001b[0m\n\u001b[0;32m     38\u001b[0m     driver\u001b[38;5;241m.\u001b[39mexecute_script(\u001b[38;5;124m\"\u001b[39m\u001b[38;5;124mwindow.scrollTo(0, document.body.scrollHeight);\u001b[39m\u001b[38;5;124m\"\u001b[39m)\n\u001b[0;32m     39\u001b[0m     \u001b[38;5;28mprint\u001b[39m(\u001b[38;5;124mf\u001b[39m\u001b[38;5;124m'\u001b[39m\u001b[38;5;132;01m{\u001b[39;00mmain\u001b[38;5;132;01m}\u001b[39;00m\u001b[38;5;124m_\u001b[39m\u001b[38;5;132;01m{\u001b[39;00msub\u001b[38;5;132;01m}\u001b[39;00m\u001b[38;5;124m_\u001b[39m\u001b[38;5;132;01m{\u001b[39;00mi\u001b[38;5;241m+\u001b[39m\u001b[38;5;241m1\u001b[39m\u001b[38;5;132;01m}\u001b[39;00m\u001b[38;5;124m번 스크롤 다운 진행중...\u001b[39m\u001b[38;5;124m'\u001b[39m)\n\u001b[1;32m---> 40\u001b[0m     \u001b[43mtime\u001b[49m\u001b[38;5;241;43m.\u001b[39;49m\u001b[43msleep\u001b[49m\u001b[43m(\u001b[49m\u001b[38;5;241;43m3\u001b[39;49m\u001b[43m)\u001b[49m\n\u001b[0;32m     42\u001b[0m \u001b[38;5;28mprint\u001b[39m(\u001b[38;5;124m'\u001b[39m\u001b[38;5;124m곧 크롤링 시작\u001b[39m\u001b[38;5;124m'\u001b[39m)\n\u001b[0;32m     43\u001b[0m time\u001b[38;5;241m.\u001b[39msleep(\u001b[38;5;241m10\u001b[39m)\n",
      "\u001b[1;31mKeyboardInterrupt\u001b[0m: "
     ]
    }
   ],
   "source": [
    "for i, (main, subs) in enumerate(categories.items()) :\n",
    "    for sub in subs :\n",
    "        time.sleep(2)\n",
    "        \n",
    "        connect_urls = []\n",
    "        prices = []\n",
    "        img_urls = []\n",
    "        titles = []\n",
    "        sizes = []\n",
    "\n",
    "\n",
    "        # secondwear 사이트 접속하기\n",
    "        driver.get('https://www.hellomarket.com/')\n",
    "\n",
    "        # 검색창 들어가기\n",
    "        pre_search_part = driver.find_element(By.CSS_SELECTOR, 'div[class=\"sc-90f95001-3 eqsdiJ\"]').click()\n",
    "\n",
    "        # 검색창에 커서 놓기\n",
    "        search_part = driver.find_element(By.CSS_SELECTOR, 'input[class=\"sc-84bdfbae-4 ibdzoI\"]')\n",
    "\n",
    "        # 소분류 입력하기\n",
    "        search_part.send_keys(f'{sub}')\n",
    "\n",
    "        # enter 입력하기\n",
    "        search_part.send_keys(Keys.RETURN)\n",
    "        \n",
    "        # enter 입력 후 로드가 충분히 될 수 있도록 기다린다.\n",
    "        time.sleep(5)\n",
    "\n",
    "\n",
    "        # 첫 화면에 들어갔다.\n",
    "\n",
    "        # 정보 추출하는 것을 스코롤하면서 총 10번 추출한다.\n",
    "\n",
    "        \n",
    "        # 스크롤 10번 내리고\n",
    "        for i in range(10) :\n",
    "            \n",
    "            driver.execute_script(\"window.scrollTo(0, document.body.scrollHeight);\")\n",
    "            print(f'{main}_{sub}_{i+1}번 스크롤 다운 진행중...')\n",
    "            time.sleep(3)\n",
    "        \n",
    "        print('곧 크롤링 시작')\n",
    "        time.sleep(10)\n",
    "\n",
    "        \n",
    "            \n",
    "        # 큰 박스를 먼저 찾는다. -> 가장 우선 순위는 이미지 url이 된다.\n",
    "        large_boxes = driver.find_elements(By.CSS_SELECTOR, 'div.sc-2e746fd3-0.loRRgN')\n",
    "\n",
    "        \n",
    "\n",
    "        # 하나의 개별 품목에 대한 정보에 접근하기 위한 준비를 한다.\n",
    "        for large_box in tqdm(large_boxes) :\n",
    "            \n",
    "\n",
    "            # [일단 필요한 정보는 다 찾는다.]\n",
    "\n",
    "            # 큰 박스 > 작은 박스 1 찾기\n",
    "            small_box_1 = large_box.find_element(By.CSS_SELECTOR, 'div.sc-2e746fd3-1.gHhzqc')\n",
    "\n",
    "            # 작은 박스 1 > connect_url 찾기\n",
    "            connect_url_element = small_box_1.find_element(By.CSS_SELECTOR, 'a[href]')\n",
    "            connect_url = connect_url_element.get_attribute('href')\n",
    "\n",
    "            # connect_url > div > img 태그 찾기\n",
    "            img_tag = connect_url_element.find_element(By.CSS_SELECTOR, 'div > img.sc-b34a2ec2-0.bOxxOH')\n",
    "            img_url = img_tag.get_attribute('src')\n",
    "\n",
    "            # 큰 박스 > 작은 박스 2 찾기\n",
    "            small_box_2 = large_box.find_element(By.CSS_SELECTOR, 'div.sc-2e746fd3-6.cVhNfy')\n",
    "\n",
    "            # 작은 박스 2에서 가격 찾기\n",
    "            price_element = small_box_2.find_element(By.CSS_SELECTOR, 'div.sc-2e746fd3-5.laAErS')\n",
    "            price = price_element.text\n",
    "\n",
    "\n",
    "            # 작은 박스 2에서 제목 찾기\n",
    "            title_element = small_box_2.find_element(By.CSS_SELECTOR, 'div.sc-2e746fd3-5.RmlFc')\n",
    "            title = title_element.text\n",
    "\n",
    "            # 작은 박스 2에서 사이즈 찾기\n",
    "\n",
    "            # 사이즈가 있으면\n",
    "            try :\n",
    "                size_element = small_box_2.find_element(By.CSS_SELECTOR, 'div[class=\"sc-2e746fd3-8 fnhBvW\"]')\n",
    "                size = size_element.text\n",
    "            # 사이즈가 없으면\n",
    "            except :\n",
    "                size = 'Free'\n",
    "\n",
    "\n",
    "\n",
    "            # [필요한 정보는 다 찾았으니 이제 해당 정보를 각 리스트에 넣어줄지 판단한다.]\n",
    "\n",
    "            # 첫 시도, 백지 상태일 때 -> 1. img_url에 empty가 있으면 안된다. 2. img_urls에 img_url이 있으면 안된다.\n",
    "            if ('empty' not in img_url) and (img_url not in img_urls) :     \n",
    "                connect_urls.append(connect_url) \n",
    "                prices.append(price) \n",
    "                img_urls.append(img_url) \n",
    "                titles.append(title) \n",
    "                sizes.append(size)\n",
    "                \n",
    "    \n",
    "        # 반복문을 지나면서 정보가 정리되었으니, 데이터프레임을 만들어준다.\n",
    "        datas = pd.DataFrame({'price' : prices, 'img_url' : img_urls, 'connect_url' : connect_urls, 'title' :titles })\n",
    "\n",
    "        datas.to_csv(f'./secondwear_crawling_results/{main}_{sub}.csv', index=False)\n",
    "        print(f'{main}_{sub} 완료 : 탐색 제품 수 -> {len(img_urls)} ')       \n",
    "                    \n",
    "                \n"
   ]
  }
 ],
 "metadata": {
  "kernelspec": {
   "display_name": "base",
   "language": "python",
   "name": "python3"
  },
  "language_info": {
   "codemirror_mode": {
    "name": "ipython",
    "version": 3
   },
   "file_extension": ".py",
   "mimetype": "text/x-python",
   "name": "python",
   "nbconvert_exporter": "python",
   "pygments_lexer": "ipython3",
   "version": "3.10.13"
  }
 },
 "nbformat": 4,
 "nbformat_minor": 2
}
