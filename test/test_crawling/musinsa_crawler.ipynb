{
 "cells": [
  {
   "cell_type": "code",
   "execution_count": 1,
   "metadata": {},
   "outputs": [],
   "source": [
    "import pandas as pd\n",
    "import requests"
   ]
  },
  {
   "cell_type": "code",
   "execution_count": 2,
   "metadata": {},
   "outputs": [],
   "source": [
    "categories = {\n",
    "    '상의' : ['니트', '후드', '맨투맨','와이셔츠','블라우스','긴소매티셔츠','반소매티셔츠','민소매티셔츠','카라티셔츠','베스트'],\n",
    "    '바지' : ['데님팬츠', '슬랙스','트레이닝바지','조거팬츠','숏팬츠','코튼팬츠','레깅스', '와이드팬츠'],\n",
    "    '아우터' : ['후드집업', '바람막이', '코트', '롱패딩', '숏패딩', '패딩 베스트', '블루종',\n",
    "                '레더자켓', '무스탕', '트러커자켓', '블레이저', '가디건','뽀글이후리스','사파리자켓'],\n",
    "    '원피스' : ['미니원피스', '미디원피스', '투피스', '롱원피스', '점프수트'],\n",
    "    '스커트' : ['미니스커트', '미디스커트', '롱스커트']\n",
    "}"
   ]
  },
  {
   "cell_type": "code",
   "execution_count": 3,
   "metadata": {},
   "outputs": [],
   "source": [
    "url = 'https://search.musinsa.com/api/search/v2/goods'\n",
    "\n",
    "headers = {\n",
    "    'User-Agent':'Mozilla/5.0 (Windows NT 10.0; Win64; x64) AppleWebKit/537.36 (KHTML, like Gecko) Chrome/126.0.0.0 Safari/537.36',\n",
    "    'Accept':'application/json'\n",
    "}\n",
    "\n",
    "\n",
    "\n",
    "for high, subs in categories.items():\n",
    "    for sub in subs:\n",
    "        data = []\n",
    "        for page in range(1,6) :\n",
    "            keyword = sub\n",
    "            params = {\n",
    "                \"siteKindId\": \"musinsa\",\n",
    "                \"keyword\": keyword,\n",
    "                \"includeSoldOut\": \"false\", # 다팔린것도 포함 할꺼냐?\n",
    "                \"includeUnisex\": \"true\", # 남/여공용 포함 여부\n",
    "                \"sort\": \"POPULAR\", # 정렬순 => 인기있는\n",
    "                \"originalYn\": \"N\",\n",
    "                \"size\": 60,\n",
    "                \"sex\": \"A\",\n",
    "                \"page\": page\n",
    "            }\n",
    "            res = requests.get(url, headers=headers, params=params).json()\n",
    "            items = res['data']['list']\n",
    "            for item in items:\n",
    "                data.append({\n",
    "                    'price': item['price'],\n",
    "                    'img_url': item['imageUrl'],\n",
    "                    'connect_url': item['linkUrl'],\n",
    "                    'title': item['goodsName'],\n",
    "                    'gender': item['displaySexCodeList']\n",
    "                })\n",
    "            df = pd.DataFrame(data, columns=['price', 'img_url', 'connect_url', 'title', 'gender'])\n",
    "            df.to_csv(f'./musinsa_csv/{high}_{sub}.csv')\n"
   ]
  },
  {
   "cell_type": "code",
   "execution_count": null,
   "metadata": {},
   "outputs": [],
   "source": []
  }
 ],
 "metadata": {
  "kernelspec": {
   "display_name": "study",
   "language": "python",
   "name": "python3"
  },
  "language_info": {
   "codemirror_mode": {
    "name": "ipython",
    "version": 3
   },
   "file_extension": ".py",
   "mimetype": "text/x-python",
   "name": "python",
   "nbconvert_exporter": "python",
   "pygments_lexer": "ipython3",
   "version": "3.10.13"
  }
 },
 "nbformat": 4,
 "nbformat_minor": 2
}
