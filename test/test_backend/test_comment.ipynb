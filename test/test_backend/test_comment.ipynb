{
 "cells": [
  {
   "cell_type": "code",
   "execution_count": 1,
   "metadata": {},
   "outputs": [],
   "source": [
    "import requests\n",
    "\n",
    "# 자신 ip로 바꿔서 사용\n",
    "ip = \"127.0.0.1:8000\""
   ]
  },
  {
   "cell_type": "code",
   "execution_count": 14,
   "metadata": {},
   "outputs": [
    {
     "name": "stdout",
     "output_type": "stream",
     "text": [
      "<Response [201]>\n"
     ]
    },
    {
     "data": {
      "text/plain": [
       "{'message': '회원가입이 완료되었습니다.'}"
      ]
     },
     "execution_count": 14,
     "metadata": {},
     "output_type": "execute_result"
    }
   ],
   "source": [
    "# 회원가입 post\n",
    "signup_url = f'http://{ip}/api/accounts/signup/'\n",
    "data = {\n",
    "    'username' : 'comment2',\n",
    "    'password' : '123456123456', # 10자이상\n",
    "    'phone_number' : '0104567556472',\n",
    "    'nickname' : 'comment2',\n",
    "    'email' : 'comment2@ejuhh3.io', # emailfield\n",
    "}\n",
    "res = requests.post(signup_url, data=data)\n",
    "\n",
    "res.status_code\n",
    "print(res)\n",
    "res.json()"
   ]
  },
  {
   "cell_type": "code",
   "execution_count": 15,
   "metadata": {},
   "outputs": [
    {
     "name": "stdout",
     "output_type": "stream",
     "text": [
      "200\n"
     ]
    }
   ],
   "source": [
    "# 로그인\n",
    "login_url = f'http://{ip}/api/accounts/login/'\n",
    "data = {\n",
    "    'email': 'comment2@ejuhh3.io',\n",
    "    'password': '123456123456'\n",
    "}\n",
    "\n",
    "res = requests.post(login_url, data=data)\n",
    "print(res.status_code)\n",
    "ref_cookies = res.cookies\n",
    "ac_token = res.json()['access']"
   ]
  },
  {
   "cell_type": "code",
   "execution_count": 20,
   "metadata": {},
   "outputs": [
    {
     "name": "stdout",
     "output_type": "stream",
     "text": [
      "201\n"
     ]
    },
    {
     "data": {
      "text/plain": [
       "{'id': 5,\n",
       " 'user': 3,\n",
       " 'article': 2,\n",
       " 'comment': '두번째 댓글임',\n",
       " 'created_at': '2024-07-12',\n",
       " 'update_at': '2024-07-12'}"
      ]
     },
     "execution_count": 20,
     "metadata": {},
     "output_type": "execute_result"
    }
   ],
   "source": [
    "# 댓글 생성\n",
    "article_id = 2\n",
    "url = f\"http://{ip}/api/comments/create/{article_id}/\"\n",
    "headers = {\n",
    "    'Authorization': f'Bearer {ac_token}',\n",
    "}\n",
    "data = {\n",
    "  \"comment\": \"두번째 댓글임\"\n",
    "}\n",
    "\n",
    "res = requests.post(url, headers=headers, data=data)\n",
    "print(res.status_code)\n",
    "res.json()\n"
   ]
  },
  {
   "cell_type": "code",
   "execution_count": 24,
   "metadata": {},
   "outputs": [
    {
     "name": "stdout",
     "output_type": "stream",
     "text": [
      "200\n"
     ]
    },
    {
     "data": {
      "text/plain": [
       "[{'id': 1,\n",
       "  'user': 2,\n",
       "  'article': 2,\n",
       "  'comment': '첫번째 댓글임',\n",
       "  'created_at': '2024-07-09',\n",
       "  'update_at': '2024-07-09'},\n",
       " {'id': 2,\n",
       "  'user': 2,\n",
       "  'article': 2,\n",
       "  'comment': '안녕?',\n",
       "  'created_at': '2024-07-09',\n",
       "  'update_at': '2024-07-12'},\n",
       " {'id': 3,\n",
       "  'user': 2,\n",
       "  'article': 2,\n",
       "  'comment': '두번째 댓글임',\n",
       "  'created_at': '2024-07-12',\n",
       "  'update_at': '2024-07-12'},\n",
       " {'id': 4,\n",
       "  'user': 2,\n",
       "  'article': 2,\n",
       "  'comment': '두번째 댓글임',\n",
       "  'created_at': '2024-07-12',\n",
       "  'update_at': '2024-07-12'},\n",
       " {'id': 5,\n",
       "  'user': 3,\n",
       "  'article': 2,\n",
       "  'comment': '안녕?',\n",
       "  'created_at': '2024-07-12',\n",
       "  'update_at': '2024-07-12'}]"
      ]
     },
     "execution_count": 24,
     "metadata": {},
     "output_type": "execute_result"
    }
   ],
   "source": [
    "# 댓글 조회\n",
    "article_id = 2\n",
    "url = f\"http://{ip}/api/comments/{article_id}/\"\n",
    "headers = {\n",
    "    'Authorization': f'Bearer {ac_token}',\n",
    "}\n",
    "\n",
    "res = requests.get(url, headers=headers)\n",
    "print(res.status_code)\n",
    "res.json()\n"
   ]
  },
  {
   "cell_type": "code",
   "execution_count": 23,
   "metadata": {},
   "outputs": [
    {
     "name": "stdout",
     "output_type": "stream",
     "text": [
      "200\n"
     ]
    },
    {
     "data": {
      "text/plain": [
       "{'id': 5,\n",
       " 'user': 3,\n",
       " 'article': 2,\n",
       " 'comment': '안녕?',\n",
       " 'created_at': '2024-07-12',\n",
       " 'update_at': '2024-07-12'}"
      ]
     },
     "execution_count": 23,
     "metadata": {},
     "output_type": "execute_result"
    }
   ],
   "source": [
    "# 댓글 수정\n",
    "article_id = 2\n",
    "comment_id = 5\n",
    "url = f\"http://{ip}/api/comments/modify/{article_id}/{comment_id}\"\n",
    "headers = {\n",
    "    'Authorization': f'Bearer {ac_token}',\n",
    "}\n",
    "data = {\n",
    "    \"comment\": \"안녕?\"\n",
    "}\n",
    "\n",
    "res = requests.patch(url, headers=headers, data=data)\n",
    "print(res.status_code)\n",
    "res.json()"
   ]
  },
  {
   "cell_type": "code",
   "execution_count": 31,
   "metadata": {},
   "outputs": [
    {
     "name": "stdout",
     "output_type": "stream",
     "text": [
      "404\n"
     ]
    }
   ],
   "source": [
    "# 댓글 삭제\n",
    "article_id = 2\n",
    "comment_id = 5\n",
    "url = f\"http://{ip}/api/comments/delete/{article_id}/{comment_id}\"\n",
    "headers = {\n",
    "    'Authorization': f'Bearer {ac_token}',\n",
    "}\n",
    "\n",
    "res = requests.delete(url, headers=headers, data=data)\n",
    "print(res.status_code)"
   ]
  },
  {
   "cell_type": "code",
   "execution_count": null,
   "metadata": {},
   "outputs": [],
   "source": []
  }
 ],
 "metadata": {
  "kernelspec": {
   "display_name": "base",
   "language": "python",
   "name": "python3"
  },
  "language_info": {
   "codemirror_mode": {
    "name": "ipython",
    "version": 3
   },
   "file_extension": ".py",
   "mimetype": "text/x-python",
   "name": "python",
   "nbconvert_exporter": "python",
   "pygments_lexer": "ipython3",
   "version": "3.11.5"
  }
 },
 "nbformat": 4,
 "nbformat_minor": 2
}
