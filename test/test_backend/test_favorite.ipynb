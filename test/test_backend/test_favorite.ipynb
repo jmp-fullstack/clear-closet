{
 "cells": [
  {
   "cell_type": "code",
   "execution_count": 2,
   "metadata": {},
   "outputs": [],
   "source": [
    "import requests\n",
    "\n",
    "# 자신 ip로 바꿔서 사용\n",
    "ip = \"127.0.0.1:8000\""
   ]
  },
  {
   "cell_type": "code",
   "execution_count": 31,
   "metadata": {},
   "outputs": [
    {
     "name": "stdout",
     "output_type": "stream",
     "text": [
      "201\n"
     ]
    },
    {
     "data": {
      "text/plain": [
       "{'message': '회원가입이 완료되었습니다.'}"
      ]
     },
     "execution_count": 31,
     "metadata": {},
     "output_type": "execute_result"
    }
   ],
   "source": [
    "# 회원가입 post\n",
    "signup_url = f'http://{ip}/api/accounts/signup/'\n",
    "data = {\n",
    "    'username' : 'favorite2',\n",
    "    'password' : '123456123456', # 10자이상\n",
    "    'phone_number' : '010456415647',\n",
    "    'nickname' : 'favorite2',\n",
    "    'email' : 'favorite2@ejuhh3.io', # emailfield\n",
    "}\n",
    "res = requests.post(signup_url, data=data)\n",
    "print(res.status_code)\n",
    "res.json()\n"
   ]
  },
  {
   "cell_type": "code",
   "execution_count": 3,
   "metadata": {},
   "outputs": [
    {
     "name": "stdout",
     "output_type": "stream",
     "text": [
      "200\n"
     ]
    }
   ],
   "source": [
    "# 로그인\n",
    "login_url = f'http://{ip}/api/accounts/login/'\n",
    "data = {\n",
    "    'email': 'favorite2@ejuhh3.io',\n",
    "    'password': '123456123456'\n",
    "}\n",
    "\n",
    "res = requests.post(login_url, data=data)\n",
    "print(res.status_code)\n",
    "ref_cookies = res.cookies\n",
    "ac_token = res.json()['access']"
   ]
  },
  {
   "cell_type": "code",
   "execution_count": 4,
   "metadata": {},
   "outputs": [
    {
     "name": "stdout",
     "output_type": "stream",
     "text": [
      "201\n"
     ]
    },
    {
     "data": {
      "text/plain": [
       "{'message': '게시글 좋아요 눌림'}"
      ]
     },
     "execution_count": 4,
     "metadata": {},
     "output_type": "execute_result"
    }
   ],
   "source": [
    "# 좋아요 눌리기 (첫번쨰 = 좋아요 눌리기 , 두번째 = 좋아요 취소하기)\n",
    "article_id = 3\n",
    "url = f\"http://{ip}/api/favorites/{article_id}/\"\n",
    "headers = {\n",
    "    'Authorization': f'Bearer {ac_token}',\n",
    "}\n",
    "\n",
    "response = requests.post(url, headers=headers)\n",
    "\n",
    "print(response.status_code)\n",
    "response.json()"
   ]
  },
  {
   "cell_type": "code",
   "execution_count": 34,
   "metadata": {},
   "outputs": [
    {
     "name": "stdout",
     "output_type": "stream",
     "text": [
      "200\n",
      "[{'id': 2, 'article': {'id': 5, 'title': '테스트2', 'product': {'price': 10000, 'category': {'id': 1, 'top_category': '상의', 'bottom_category': '니트'}, 'option': {'id': 1, 'color': '어두운 빨강', 'size': 'XS'}, 'product_images': [{'image_url': 'https://d2tmh1hqo2byo0.cloudfront.net/user_product/58ec7616-4baf-4ca8-9ffc-ceef825b6da6.png'}, {'image_url': 'https://d2tmh1hqo2byo0.cloudfront.net/user_product/485ed75a-0797-4d48-9a3a-a8622ebeb4b1.png'}], 'brand': '노브랜드', 'product_status': '사용감 있는 새상품'}, 'is_sell': True}, 'create_at': '2024-07-10', 'user': 5}]\n"
     ]
    }
   ],
   "source": [
    "# 좋아요 한 목록 조회\n",
    "url = f\"http://{ip}/api/favorites/list\"\n",
    "headers = {\n",
    "    'Authorization': f'Bearer {ac_token}',\n",
    "}\n",
    "\n",
    "response = requests.get(url, headers=headers)\n",
    "print(response.status_code)\n",
    "print(response.json())\n"
   ]
  },
  {
   "cell_type": "code",
   "execution_count": 5,
   "metadata": {},
   "outputs": [
    {
     "name": "stdout",
     "output_type": "stream",
     "text": [
      "200\n"
     ]
    },
    {
     "data": {
      "text/plain": [
       "[{'id': 5,\n",
       "  'title': '테스트2',\n",
       "  'product': {'price': 10000,\n",
       "   'category': {'id': 1, 'top_category': '상의', 'bottom_category': '니트'},\n",
       "   'option': {'id': 1, 'color': '어두운 빨강', 'size': 'XS'},\n",
       "   'product_images': [{'image_url': 'https://d2tmh1hqo2byo0.cloudfront.net/user_product/58ec7616-4baf-4ca8-9ffc-ceef825b6da6.png'},\n",
       "    {'image_url': 'https://d2tmh1hqo2byo0.cloudfront.net/user_product/485ed75a-0797-4d48-9a3a-a8622ebeb4b1.png'}],\n",
       "   'brand': '노브랜드',\n",
       "   'product_status': '사용감 있는 새상품'},\n",
       "  'is_sell': True,\n",
       "  'num_favorites': 2},\n",
       " {'id': 3,\n",
       "  'title': '테스트2',\n",
       "  'product': {'price': 10000,\n",
       "   'category': {'id': 1, 'top_category': '상의', 'bottom_category': '니트'},\n",
       "   'option': {'id': 1, 'color': '어두운 빨강', 'size': 'XS'},\n",
       "   'product_images': [{'image_url': 'https://d2tmh1hqo2byo0.cloudfront.net/user_product/f95566b8-4b34-44cd-b2a7-7f864d57e53a.png'},\n",
       "    {'image_url': 'https://d2tmh1hqo2byo0.cloudfront.net/user_product/8d35ba90-0013-48ac-97ff-f26567ca6898.png'}],\n",
       "   'brand': '노브랜드',\n",
       "   'product_status': '사용감 있는 새상품'},\n",
       "  'is_sell': True,\n",
       "  'num_favorites': 1},\n",
       " {'id': 2,\n",
       "  'title': '테스트2',\n",
       "  'product': {'price': 10000,\n",
       "   'category': {'id': 1, 'top_category': '상의', 'bottom_category': '니트'},\n",
       "   'option': {'id': 1, 'color': '어두운 빨강', 'size': 'XS'},\n",
       "   'product_images': [{'image_url': 'https://d2tmh1hqo2byo0.cloudfront.net/user_product/25c676b9-1460-4ee9-a574-387beb50a0c2.png'},\n",
       "    {'image_url': 'https://d2tmh1hqo2byo0.cloudfront.net/user_product/6127c6ea-fe76-41ac-a02b-b2a40939a85d.png'}],\n",
       "   'brand': '노브랜드',\n",
       "   'product_status': '사용감 있는 새상품'},\n",
       "  'is_sell': True,\n",
       "  'num_favorites': 0},\n",
       " {'id': 4,\n",
       "  'title': '테스트2',\n",
       "  'product': {'price': 10000,\n",
       "   'category': {'id': 1, 'top_category': '상의', 'bottom_category': '니트'},\n",
       "   'option': {'id': 1, 'color': '어두운 빨강', 'size': 'XS'},\n",
       "   'product_images': [{'image_url': 'https://d2tmh1hqo2byo0.cloudfront.net/user_product/747028e3-d95c-4076-9582-3deaa7feb5c3.png'},\n",
       "    {'image_url': 'https://d2tmh1hqo2byo0.cloudfront.net/user_product/4a70d253-0a86-4226-93e4-1b49db6e3c9f.png'}],\n",
       "   'brand': '노브랜드',\n",
       "   'product_status': '사용감 있는 새상품'},\n",
       "  'is_sell': True,\n",
       "  'num_favorites': 0}]"
      ]
     },
     "execution_count": 5,
     "metadata": {},
     "output_type": "execute_result"
    }
   ],
   "source": [
    "import requests\n",
    "\n",
    "url = f\"http://{ip}/api/favorites/articles/list/\"\n",
    "headers = {\n",
    "    'Authorization': f'Bearer {ac_token}',\n",
    "}\n",
    "\n",
    "response = requests.get(url, headers=headers)\n",
    "print(response.status_code)\n",
    "response.json()"
   ]
  },
  {
   "cell_type": "code",
   "execution_count": null,
   "metadata": {},
   "outputs": [],
   "source": []
  }
 ],
 "metadata": {
  "kernelspec": {
   "display_name": "base",
   "language": "python",
   "name": "python3"
  },
  "language_info": {
   "codemirror_mode": {
    "name": "ipython",
    "version": 3
   },
   "file_extension": ".py",
   "mimetype": "text/x-python",
   "name": "python",
   "nbconvert_exporter": "python",
   "pygments_lexer": "ipython3",
   "version": "3.11.5"
  }
 },
 "nbformat": 4,
 "nbformat_minor": 2
}
