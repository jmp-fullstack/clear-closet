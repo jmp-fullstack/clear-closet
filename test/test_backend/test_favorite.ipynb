{
 "cells": [
  {
   "cell_type": "code",
   "execution_count": 1,
   "metadata": {},
   "outputs": [],
   "source": [
    "import requests\n",
    "\n",
    "# 자신 ip로 바꿔서 사용\n",
    "ip = \"127.0.0.1:8000\""
   ]
  },
  {
   "cell_type": "code",
   "execution_count": 2,
   "metadata": {},
   "outputs": [
    {
     "name": "stdout",
     "output_type": "stream",
     "text": [
      "201\n"
     ]
    },
    {
     "data": {
      "text/plain": [
       "{'message': '회원가입이 완료되었습니다.'}"
      ]
     },
     "execution_count": 2,
     "metadata": {},
     "output_type": "execute_result"
    }
   ],
   "source": [
    "# 회원가입 post\n",
    "signup_url = f'http://{ip}/api/accounts/signup/'\n",
    "data = {\n",
    "    'username' : 'favorite2',\n",
    "    'password' : '123456123456', # 10자이상\n",
    "    'phone_number' : '010456415647',\n",
    "    'nickname' : 'favorite2',\n",
    "    'email' : 'favorite2@ejuhh3.io', # emailfield\n",
    "}\n",
    "res = requests.post(signup_url, data=data)\n",
    "print(res.status_code)\n",
    "res.json()\n"
   ]
  },
  {
   "cell_type": "code",
   "execution_count": 3,
   "metadata": {},
   "outputs": [
    {
     "name": "stdout",
     "output_type": "stream",
     "text": [
      "200\n"
     ]
    }
   ],
   "source": [
    "# 로그인\n",
    "login_url = f'http://{ip}/api/accounts/login/'\n",
    "data = {\n",
    "    'email': 'favorite2@ejuhh3.io',\n",
    "    'password': '123456123456'\n",
    "}\n",
    "\n",
    "res = requests.post(login_url, data=data)\n",
    "print(res.status_code)\n",
    "ref_cookies = res.cookies\n",
    "ac_token = res.json()['access']"
   ]
  },
  {
   "cell_type": "code",
   "execution_count": 4,
   "metadata": {},
   "outputs": [
    {
     "ename": "NameError",
     "evalue": "name 'ac_token' is not defined",
     "output_type": "error",
     "traceback": [
      "\u001b[1;31m---------------------------------------------------------------------------\u001b[0m",
      "\u001b[1;31mNameError\u001b[0m                                 Traceback (most recent call last)",
      "Cell \u001b[1;32mIn[4], line 5\u001b[0m\n\u001b[0;32m      2\u001b[0m article_id \u001b[38;5;241m=\u001b[39m \u001b[38;5;241m3\u001b[39m\n\u001b[0;32m      3\u001b[0m url \u001b[38;5;241m=\u001b[39m \u001b[38;5;124mf\u001b[39m\u001b[38;5;124m\"\u001b[39m\u001b[38;5;124mhttp://\u001b[39m\u001b[38;5;132;01m{\u001b[39;00mip\u001b[38;5;132;01m}\u001b[39;00m\u001b[38;5;124m/api/favorites/\u001b[39m\u001b[38;5;132;01m{\u001b[39;00marticle_id\u001b[38;5;132;01m}\u001b[39;00m\u001b[38;5;124m/\u001b[39m\u001b[38;5;124m\"\u001b[39m\n\u001b[0;32m      4\u001b[0m headers \u001b[38;5;241m=\u001b[39m {\n\u001b[1;32m----> 5\u001b[0m     \u001b[38;5;124m'\u001b[39m\u001b[38;5;124mAuthorization\u001b[39m\u001b[38;5;124m'\u001b[39m: \u001b[38;5;124mf\u001b[39m\u001b[38;5;124m'\u001b[39m\u001b[38;5;124mBearer \u001b[39m\u001b[38;5;132;01m{\u001b[39;00mac_token\u001b[38;5;132;01m}\u001b[39;00m\u001b[38;5;124m'\u001b[39m,\n\u001b[0;32m      6\u001b[0m }\n\u001b[0;32m      8\u001b[0m response \u001b[38;5;241m=\u001b[39m requests\u001b[38;5;241m.\u001b[39mpost(url)\n\u001b[0;32m     10\u001b[0m \u001b[38;5;28mprint\u001b[39m(response\u001b[38;5;241m.\u001b[39mstatus_code)\n",
      "\u001b[1;31mNameError\u001b[0m: name 'ac_token' is not defined"
     ]
    }
   ],
   "source": [
    "# 좋아요 눌리기 (첫번쨰 = 좋아요 눌리기 , 두번째 = 좋아요 취소하기)\n",
    "article_id = 3\n",
    "url = f\"http://{ip}/api/favorites/{article_id}/\"\n",
    "headers = {\n",
    "    'Authorization': f'Bearer {ac_token}',\n",
    "}\n",
    "\n",
    "response = requests.post(url)\n",
    "\n",
    "print(response.status_code)\n",
    "response.json()"
   ]
  },
  {
   "cell_type": "code",
   "execution_count": 6,
   "metadata": {},
   "outputs": [
    {
     "ename": "NameError",
     "evalue": "name 'ac_token' is not defined",
     "output_type": "error",
     "traceback": [
      "\u001b[1;31m---------------------------------------------------------------------------\u001b[0m",
      "\u001b[1;31mNameError\u001b[0m                                 Traceback (most recent call last)",
      "Cell \u001b[1;32mIn[6], line 4\u001b[0m\n\u001b[0;32m      1\u001b[0m \u001b[38;5;66;03m# 좋아요 한 목록 조회\u001b[39;00m\n\u001b[0;32m      2\u001b[0m url \u001b[38;5;241m=\u001b[39m \u001b[38;5;124mf\u001b[39m\u001b[38;5;124m\"\u001b[39m\u001b[38;5;124mhttp://\u001b[39m\u001b[38;5;132;01m{\u001b[39;00mip\u001b[38;5;132;01m}\u001b[39;00m\u001b[38;5;124m/api/favorites/list\u001b[39m\u001b[38;5;124m\"\u001b[39m\n\u001b[0;32m      3\u001b[0m headers \u001b[38;5;241m=\u001b[39m {\n\u001b[1;32m----> 4\u001b[0m     \u001b[38;5;124m'\u001b[39m\u001b[38;5;124mAuthorization\u001b[39m\u001b[38;5;124m'\u001b[39m: \u001b[38;5;124mf\u001b[39m\u001b[38;5;124m'\u001b[39m\u001b[38;5;124mBearer \u001b[39m\u001b[38;5;132;01m{\u001b[39;00mac_token\u001b[38;5;132;01m}\u001b[39;00m\u001b[38;5;124m'\u001b[39m,\n\u001b[0;32m      5\u001b[0m }\n\u001b[0;32m      7\u001b[0m response \u001b[38;5;241m=\u001b[39m requests\u001b[38;5;241m.\u001b[39mget(url)\n\u001b[0;32m      8\u001b[0m \u001b[38;5;28mprint\u001b[39m(response\u001b[38;5;241m.\u001b[39mstatus_code)\n",
      "\u001b[1;31mNameError\u001b[0m: name 'ac_token' is not defined"
     ]
    }
   ],
   "source": [
    "# 좋아요 한 목록 조회\n",
    "url = f\"http://{ip}/api/favorites/list\"\n",
    "headers = {\n",
    "    'Authorization': f'Bearer {ac_token}',\n",
    "}\n",
    "\n",
    "response = requests.get(url)\n",
    "print(response.status_code)\n",
    "print(response.json())\n"
   ]
  },
  {
   "cell_type": "code",
   "execution_count": 4,
   "metadata": {},
   "outputs": [
    {
     "name": "stdout",
     "output_type": "stream",
     "text": [
      "200\n"
     ]
    },
    {
     "data": {
      "text/plain": [
       "[{'id': 5,\n",
       "  'title': '테스트2',\n",
       "  'product': {'price': 5000,\n",
       "   'category': {'id': 1, 'top_category': '상의', 'bottom_category': '니트'},\n",
       "   'option': {'id': 1, 'color': '어두운 빨강', 'size': 'XS'},\n",
       "   'product_images': [{'image_url': 'https://d2tmh1hqo2byo0.cloudfront.net/user_product/a1306436-e89b-4ce2-9b4b-b8976edb9b9a.png'}],\n",
       "   'brand': '노브랜드',\n",
       "   'product_status': '사용감 있는 새상품'},\n",
       "  'is_sell': True,\n",
       "  'num_favorites': 2,\n",
       "  'create_at': '2024-07-12 17:30:09',\n",
       "  'update_at': '2024-07-12 17:30:09',\n",
       "  'nickname': 'sujeong26'},\n",
       " {'id': 2,\n",
       "  'title': '테스트2',\n",
       "  'product': {'price': 30000,\n",
       "   'category': {'id': 1, 'top_category': '상의', 'bottom_category': '니트'},\n",
       "   'option': {'id': 1, 'color': '어두운 빨강', 'size': 'XS'},\n",
       "   'product_images': [{'image_url': 'https://d2tmh1hqo2byo0.cloudfront.net/user_product/ffd26e9a-fcc1-4d10-bf09-3bd4a0853175.png'}],\n",
       "   'brand': '노브랜드',\n",
       "   'product_status': '사용감 있는 새상품'},\n",
       "  'is_sell': True,\n",
       "  'num_favorites': 1,\n",
       "  'create_at': '2024-07-12 11:51:17',\n",
       "  'update_at': '2024-07-12 11:51:17',\n",
       "  'nickname': 'sujeong26'},\n",
       " {'id': 3,\n",
       "  'title': '테스트2',\n",
       "  'product': {'price': 5000,\n",
       "   'category': {'id': 1, 'top_category': '상의', 'bottom_category': '니트'},\n",
       "   'option': {'id': 1, 'color': '어두운 빨강', 'size': 'XS'},\n",
       "   'product_images': [{'image_url': 'https://d2tmh1hqo2byo0.cloudfront.net/user_product/4f82d2f2-7864-4ea1-87d3-ae0ab0d5923b.png'}],\n",
       "   'brand': '노브랜드',\n",
       "   'product_status': '사용감 있는 새상품'},\n",
       "  'is_sell': True,\n",
       "  'num_favorites': 1,\n",
       "  'create_at': '2024-07-12 11:51:26',\n",
       "  'update_at': '2024-07-12 11:51:26',\n",
       "  'nickname': 'sujeong26'},\n",
       " {'id': 1,\n",
       "  'title': '테스트2',\n",
       "  'product': {'price': 20000,\n",
       "   'category': {'id': 1, 'top_category': '상의', 'bottom_category': '니트'},\n",
       "   'option': {'id': 1, 'color': '어두운 빨강', 'size': 'XS'},\n",
       "   'product_images': [{'image_url': 'https://d2tmh1hqo2byo0.cloudfront.net/user_product/60525fdf-1958-43d4-a8dd-38ed9a4245d7.png'}],\n",
       "   'brand': '노브랜드',\n",
       "   'product_status': '사용감 있는 새상품'},\n",
       "  'is_sell': True,\n",
       "  'num_favorites': 0,\n",
       "  'create_at': '2024-07-12 11:51:09',\n",
       "  'update_at': '2024-07-12 11:51:09',\n",
       "  'nickname': 'sujeong26'},\n",
       " {'id': 4,\n",
       "  'title': '테스트2',\n",
       "  'product': {'price': 5000,\n",
       "   'category': {'id': 1, 'top_category': '상의', 'bottom_category': '니트'},\n",
       "   'option': {'id': 1, 'color': '어두운 빨강', 'size': 'XS'},\n",
       "   'product_images': [{'image_url': 'https://d2tmh1hqo2byo0.cloudfront.net/user_product/c797135c-fe7d-4eeb-97e6-d1eb0803bad2.png'}],\n",
       "   'brand': '노브랜드',\n",
       "   'product_status': '사용감 있는 새상품'},\n",
       "  'is_sell': True,\n",
       "  'num_favorites': 0,\n",
       "  'create_at': '2024-07-12 17:28:50',\n",
       "  'update_at': '2024-07-12 17:28:50',\n",
       "  'nickname': 'sujeong26'},\n",
       " {'id': 6,\n",
       "  'title': '테스트2',\n",
       "  'product': {'price': 5000,\n",
       "   'category': {'id': 1, 'top_category': '상의', 'bottom_category': '니트'},\n",
       "   'option': {'id': 1, 'color': '어두운 빨강', 'size': 'XS'},\n",
       "   'product_images': [{'image_url': 'https://d2tmh1hqo2byo0.cloudfront.net/user_product/67963274-8686-4204-8185-7a5f9f2aab6b.png'}],\n",
       "   'brand': '노브랜드',\n",
       "   'product_status': '사용감 있는 새상품'},\n",
       "  'is_sell': True,\n",
       "  'num_favorites': 0,\n",
       "  'create_at': '2024-07-12 17:31:31',\n",
       "  'update_at': '2024-07-12 17:31:31',\n",
       "  'nickname': 'sujeong26'},\n",
       " {'id': 7,\n",
       "  'title': '테스트2',\n",
       "  'product': {'price': 5000,\n",
       "   'category': {'id': 1, 'top_category': '상의', 'bottom_category': '니트'},\n",
       "   'option': {'id': 1, 'color': '어두운 빨강', 'size': 'XS'},\n",
       "   'product_images': [{'image_url': 'https://d2tmh1hqo2byo0.cloudfront.net/user_product/1fb552ca-e3a0-4cb8-837c-564408afc414.png'}],\n",
       "   'brand': '노브랜드',\n",
       "   'product_status': '사용감 있는 새상품'},\n",
       "  'is_sell': True,\n",
       "  'num_favorites': 0,\n",
       "  'create_at': '2024-07-12 17:32:11',\n",
       "  'update_at': '2024-07-12 17:32:11',\n",
       "  'nickname': 'sujeong26'},\n",
       " {'id': 8,\n",
       "  'title': '테스트2',\n",
       "  'product': {'price': 5000,\n",
       "   'category': {'id': 1, 'top_category': '상의', 'bottom_category': '니트'},\n",
       "   'option': {'id': 1, 'color': '어두운 빨강', 'size': 'XS'},\n",
       "   'product_images': [{'image_url': 'https://d2tmh1hqo2byo0.cloudfront.net/user_product/58ba76b8-5451-42ca-b738-56855f005377.png'}],\n",
       "   'brand': '노브랜드',\n",
       "   'product_status': '사용감 있는 새상품'},\n",
       "  'is_sell': True,\n",
       "  'num_favorites': 0,\n",
       "  'create_at': '2024-07-12 17:33:56',\n",
       "  'update_at': '2024-07-12 17:33:56',\n",
       "  'nickname': 'sujeong26'},\n",
       " {'id': 9,\n",
       "  'title': '테스트2',\n",
       "  'product': {'price': 5000,\n",
       "   'category': {'id': 1, 'top_category': '상의', 'bottom_category': '니트'},\n",
       "   'option': {'id': 1, 'color': '어두운 빨강', 'size': 'XS'},\n",
       "   'product_images': [{'image_url': 'https://d2tmh1hqo2byo0.cloudfront.net/user_product/322adc28-d36c-46de-9f1c-da41d94d9347.png'}],\n",
       "   'brand': '노브랜드',\n",
       "   'product_status': '사용감 있는 새상품'},\n",
       "  'is_sell': True,\n",
       "  'num_favorites': 0,\n",
       "  'create_at': '2024-07-12 17:38:49',\n",
       "  'update_at': '2024-07-12 17:38:49',\n",
       "  'nickname': 'sujeong26'},\n",
       " {'id': 10,\n",
       "  'title': '테스트2',\n",
       "  'product': {'price': 5000,\n",
       "   'category': {'id': 1, 'top_category': '상의', 'bottom_category': '니트'},\n",
       "   'option': {'id': 1, 'color': '어두운 빨강', 'size': 'XS'},\n",
       "   'product_images': [{'image_url': 'https://d2tmh1hqo2byo0.cloudfront.net/user_product/2b777793-4cbf-4536-b428-7510278258a2.png'}],\n",
       "   'brand': '노브랜드',\n",
       "   'product_status': '사용감 있는 새상품'},\n",
       "  'is_sell': True,\n",
       "  'num_favorites': 0,\n",
       "  'create_at': '2024-07-12 17:39:17',\n",
       "  'update_at': '2024-07-12 17:39:17',\n",
       "  'nickname': 'sujeong26'},\n",
       " {'id': 11,\n",
       "  'title': '',\n",
       "  'product': {'price': 5000,\n",
       "   'category': {'id': 1, 'top_category': '상의', 'bottom_category': '니트'},\n",
       "   'option': {'id': 1, 'color': '어두운 빨강', 'size': 'XS'},\n",
       "   'product_images': [{'image_url': 'https://d2tmh1hqo2byo0.cloudfront.net/user_product/98f7d265-e405-48e1-9ca9-37812a856b31.png'}],\n",
       "   'brand': '노브랜드',\n",
       "   'product_status': '사용감 있는 새상품'},\n",
       "  'is_sell': True,\n",
       "  'num_favorites': 0,\n",
       "  'create_at': '2024-07-12 17:45:54',\n",
       "  'update_at': '2024-07-12 17:45:54',\n",
       "  'nickname': 'sujeong26'},\n",
       " {'id': 12,\n",
       "  'title': '테스트2',\n",
       "  'product': {'price': 5000,\n",
       "   'category': {'id': 1, 'top_category': '상의', 'bottom_category': '니트'},\n",
       "   'option': {'id': 1, 'color': '어두운 빨강', 'size': 'XS'},\n",
       "   'product_images': [{'image_url': 'https://d2tmh1hqo2byo0.cloudfront.net/user_product/41fbc120-baad-44b2-ab62-6842017fea54.png'}],\n",
       "   'brand': '노브랜드',\n",
       "   'product_status': '사용감 있는 새상품'},\n",
       "  'is_sell': True,\n",
       "  'num_favorites': 0,\n",
       "  'create_at': '2024-07-12 17:48:36',\n",
       "  'update_at': '2024-07-12 17:48:36',\n",
       "  'nickname': 'sujeong26'},\n",
       " {'id': 13,\n",
       "  'title': '테스트2',\n",
       "  'product': {'price': 5000,\n",
       "   'category': {'id': 1, 'top_category': '상의', 'bottom_category': '니트'},\n",
       "   'option': {'id': 1, 'color': '어두운 빨강', 'size': 'XS'},\n",
       "   'product_images': [{'image_url': 'https://d2tmh1hqo2byo0.cloudfront.net/user_product/50d4e354-4930-44f2-ad38-c5bb9838bf22.png'}],\n",
       "   'brand': '노브랜드',\n",
       "   'product_status': '사용감 있는 새상품'},\n",
       "  'is_sell': True,\n",
       "  'num_favorites': 0,\n",
       "  'create_at': '2024-07-12 17:49:34',\n",
       "  'update_at': '2024-07-12 17:49:34',\n",
       "  'nickname': 'sujeong26'}]"
      ]
     },
     "execution_count": 4,
     "metadata": {},
     "output_type": "execute_result"
    }
   ],
   "source": [
    "import requests\n",
    "\n",
    "url = f\"http://{ip}/api/favorites/articles/list/\"\n",
    "headers = {\n",
    "    'Authorization': f'Bearer {ac_token}',\n",
    "}\n",
    "\n",
    "response = requests.get(url, headers=headers)\n",
    "print(response.status_code)\n",
    "response.json()"
   ]
  },
  {
   "cell_type": "code",
   "execution_count": null,
   "metadata": {},
   "outputs": [],
   "source": []
  }
 ],
 "metadata": {
  "kernelspec": {
   "display_name": "base",
   "language": "python",
   "name": "python3"
  },
  "language_info": {
   "codemirror_mode": {
    "name": "ipython",
    "version": 3
   },
   "file_extension": ".py",
   "mimetype": "text/x-python",
   "name": "python",
   "nbconvert_exporter": "python",
   "pygments_lexer": "ipython3",
   "version": "3.11.5"
  }
 },
 "nbformat": 4,
 "nbformat_minor": 2
}
