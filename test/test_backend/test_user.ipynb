{
 "cells": [
  {
   "cell_type": "code",
   "execution_count": 3,
   "metadata": {},
   "outputs": [],
   "source": [
    "import requests"
   ]
  },
  {
   "cell_type": "code",
   "execution_count": 4,
   "metadata": {},
   "outputs": [
    {
     "data": {
      "text/plain": [
       "404"
      ]
     },
     "execution_count": 4,
     "metadata": {},
     "output_type": "execute_result"
    }
   ],
   "source": [
    "url = 'http://127.0.0.1:8000/api'\n",
    "res = requests.get(url)\n",
    "res.status_code"
   ]
  },
  {
   "cell_type": "code",
   "execution_count": 41,
   "metadata": {},
   "outputs": [
    {
     "name": "stdout",
     "output_type": "stream",
     "text": [
      "201\n",
      "{\"message\":\"회원가입이 완료되었습니다.\"}\n"
     ]
    }
   ],
   "source": [
    "# 회원가입 post\n",
    "signup_url = 'http://127.0.0.1:8000/api/accounts/signup/'\n",
    "data = {\n",
    "    'username' : 'sujeong5',\n",
    "    'password' : '123451145456', # 10자이상\n",
    "    'phone_number' : '0100445234',\n",
    "    'nickname' : 'sujeong5',\n",
    "    'email' : 'sujeong5@ejuhh3.io', # emailfield\n",
    "}\n",
    "res = requests.post(signup_url, data=data)\n",
    "\n",
    "print(res.status_code)\n",
    "print(res.text)\n"
   ]
  },
  {
   "cell_type": "code",
   "execution_count": 16,
   "metadata": {},
   "outputs": [
    {
     "name": "stdout",
     "output_type": "stream",
     "text": [
      "200\n",
      "{\"message\":\"login Success\"}\n"
     ]
    }
   ],
   "source": [
    "# 로그인\n",
    "login_url = 'http://127.0.0.1:8000/api/accounts/login/'\n",
    "data = {\n",
    "    'email': 'sujeong4@ejuhh3.io',\n",
    "    'password': '123451145456'\n",
    "}\n",
    "\n",
    "res = requests.post(login_url, data=data)\n",
    "print(res.status_code)\n",
    "print(res.text)\n",
    "ref_cookies = res.cookies\n",
    "ac_token = res.headers['Authorization'].split(' ')[1]"
   ]
  },
  {
   "cell_type": "code",
   "execution_count": 6,
   "metadata": {},
   "outputs": [
    {
     "name": "stdout",
     "output_type": "stream",
     "text": [
      "205\n",
      "{\"message\":\"로그아웃 성공!\"}\n"
     ]
    }
   ],
   "source": [
    "# 로그아웃\n",
    "\n",
    "url = \"http://127.0.0.1:8000/api/accounts/logout/\"\n",
    "headers = {\n",
    "    'Authorization': f'Bearer {ac_token}',\n",
    "}\n",
    "res = requests.post(url, headers=headers, cookies=ref_cookies)\n",
    "\n",
    "print(res.status_code)\n",
    "print(res.text)"
   ]
  },
  {
   "cell_type": "code",
   "execution_count": 7,
   "metadata": {},
   "outputs": [
    {
     "name": "stdout",
     "output_type": "stream",
     "text": [
      "{\"email\":\"sujeong2@ejuhh3.io\"}\n",
      "200\n"
     ]
    }
   ],
   "source": [
    "# 아이디 찾기\n",
    "import json\n",
    "\n",
    "\n",
    "url = \"http://127.0.0.1:8000/api/accounts/auth/user/\"\n",
    "\n",
    "data = {\n",
    "    'username': 'sujeong2',\n",
    "    'phone_number': \"01091245234\",\n",
    "}\n",
    "headers = {\n",
    "    'Authorization': f'Bearer {ac_token}',\n",
    "}\n",
    "\n",
    "res = requests.post(url, headers=headers, data=data)\n",
    "\n",
    "print(res.text)\n",
    "print(res.status_code)"
   ]
  },
  {
   "cell_type": "code",
   "execution_count": 33,
   "metadata": {},
   "outputs": [
    {
     "name": "stdout",
     "output_type": "stream",
     "text": [
      "200\n",
      "c9jegn-c8cdf6bdefacd23aaa17af0e36a74f74\n",
      "Nw\n"
     ]
    }
   ],
   "source": [
    "# 비밀번호 재설정 인증 -> 재설정하는 페이지로 이동되야함.\n",
    "url = \"http://127.0.0.1:8000/api/accounts/find/password/\"\n",
    "\n",
    "data = {\n",
    "    'username': 'sujeong3',\n",
    "    'email': 'sujeong4@ejuhh3.io',\n",
    "    'phone_number': \"0100101245234\",\n",
    "}\n",
    "\n",
    "res = requests.post(url,data=data) \n",
    "\n",
    "reset_uid = res.cookies.get(\"reset_uid\")\n",
    "reset_token = res.headers.get('reset_token')\n",
    "print(res.status_code)\n",
    "print(reset_token)\n",
    "print(reset_uid)"
   ]
  },
  {
   "cell_type": "code",
   "execution_count": 34,
   "metadata": {},
   "outputs": [
    {
     "name": "stdout",
     "output_type": "stream",
     "text": [
      "200\n",
      "<RequestsCookieJar[]>\n",
      "{\"message\":\"비밀번호가 성공적으로 변경되었습니다.\"}\n"
     ]
    }
   ],
   "source": [
    "# 재설정 하는곳\n",
    "url = \"http://127.0.0.1:8000/api/accounts/change/password/\"\n",
    "\n",
    "data = {\n",
    "    'new_password' : '1111111111'\n",
    "}\n",
    "headers = {\n",
    "    'reset-token': reset_token\n",
    "}\n",
    "cookies = {\n",
    "    'reset_uid': reset_uid\n",
    "}\n",
    "\n",
    "res = requests.post(url, headers=headers, data=data, cookies=cookies) \n",
    "\n",
    "print(res.status_code)\n",
    "print(res.cookies)\n",
    "print(res.text)"
   ]
  },
  {
   "cell_type": "code",
   "execution_count": null,
   "metadata": {},
   "outputs": [],
   "source": [
    "user_pk = 1 # 다음번 계쏙 올라가야함\n",
    "url = f\"http://127.0.0.1:8000/api/accounts/delete/{user_pk}/\"\n",
    "\n",
    "headers = {\n",
    "    'Authorization': f'Bearer {ac_token}'\n",
    "}\n",
    "\n",
    "\n",
    "res = requests.delete(url, headers=headers)\n",
    "\n",
    "print(res.status_code)\n",
    "print(res.text)"
   ]
  },
  {
   "cell_type": "code",
   "execution_count": null,
   "metadata": {},
   "outputs": [],
   "source": []
  }
 ],
 "metadata": {
  "kernelspec": {
   "display_name": "pytest",
   "language": "python",
   "name": "python3"
  },
  "language_info": {
   "codemirror_mode": {
    "name": "ipython",
    "version": 3
   },
   "file_extension": ".py",
   "mimetype": "text/x-python",
   "name": "python",
   "nbconvert_exporter": "python",
   "pygments_lexer": "ipython3",
   "version": "3.11.5"
  }
 },
 "nbformat": 4,
 "nbformat_minor": 2
}
