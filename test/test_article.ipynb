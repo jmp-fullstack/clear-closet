{
 "cells": [
  {
   "cell_type": "code",
   "execution_count": 2,
   "metadata": {},
   "outputs": [],
   "source": [
    "import requests"
   ]
  },
  {
   "cell_type": "code",
   "execution_count": 16,
   "metadata": {},
   "outputs": [
    {
     "name": "stdout",
     "output_type": "stream",
     "text": [
      "<Response [201]>\n"
     ]
    }
   ],
   "source": [
    "# 회원가입 post\n",
    "signup_url = 'http://127.0.0.1:8000/api/accounts/signup/'\n",
    "data = {\n",
    "    'username' : 'sujeong25',\n",
    "    'password' : '12345423456', # 10자이상\n",
    "    'phone_number' : '01091241434',\n",
    "    'nickname' : 'sujeong25',\n",
    "    'email' : 'sujeong25@ejuhh3.io', # emailfield\n",
    "}\n",
    "res = requests.post(signup_url, data=data)\n",
    "\n",
    "res.status_code\n",
    "print(res)"
   ]
  },
  {
   "cell_type": "code",
   "execution_count": 4,
   "metadata": {},
   "outputs": [
    {
     "name": "stdout",
     "output_type": "stream",
     "text": [
      "200\n"
     ]
    }
   ],
   "source": [
    "# 로그인\n",
    "login_url = 'http://127.0.0.1:8000/api/accounts/login/'\n",
    "data = {\n",
    "    'email': 'sujeong25@ejuhh3.io',\n",
    "    'password': '12345423456'\n",
    "}\n",
    "\n",
    "res = requests.post(login_url, data=data)\n",
    "print(res.status_code)\n",
    "ref_cookies = res.cookies\n",
    "ac_token = res.headers['Authorization'].split(' ')[1]"
   ]
  },
  {
   "cell_type": "code",
   "execution_count": 22,
   "metadata": {},
   "outputs": [
    {
     "name": "stdout",
     "output_type": "stream",
     "text": [
      "201\n"
     ]
    },
    {
     "data": {
      "text/plain": [
       "{'id': 2,\n",
       " 'product': {'category': 1,\n",
       "  'option': 1,\n",
       "  'product_title': '테스트2',\n",
       "  'price': 10000,\n",
       "  'product_type': True,\n",
       "  'product_status': '사용감 있는 새상품',\n",
       "  'product_images': [{'id': 5, 'image_url': 'https://example.com/image3.jpg'},\n",
       "   {'id': 6, 'image_url': 'https://example.com/image4.jpg'}],\n",
       "  'brand': '노브랜드'},\n",
       " 'title': '테스트2',\n",
       " 'content': '테스트2',\n",
       " 'is_sell': True,\n",
       " 'create_at': '2024-07-02',\n",
       " 'update_at': '2024-07-02',\n",
       " 'user': 1}"
      ]
     },
     "execution_count": 22,
     "metadata": {},
     "output_type": "execute_result"
    }
   ],
   "source": [
    "import requests\n",
    "\n",
    "url = \"http://127.0.0.1:8000/api/articles/\"\n",
    "headers = {\n",
    "    'Authorization': f'Bearer {ac_token}',\n",
    "}\n",
    "\n",
    "data = {\n",
    "    \"title\": \"테스트2\",\n",
    "    \"content\": \"테스트2\",\n",
    "    \"product\": {\n",
    "        \"option\": {\"size\":\"M\", \"color\":\"blue\"},\n",
    "        \"category\": {\"top_category\":\"하의\",\"bottom_category\":\"슬랙스\"},\n",
    "        \"price\": 10000,\n",
    "        \"product_type\": 1,\n",
    "        \"product_image\": [\"https://example.com/image3.jpg\", \"https://example.com/image4.jpg\"\n",
    "        ],\n",
    "        'product_status': '사용감 있는 새상품'\n",
    "    }\n",
    "}\n",
    "\n",
    "response = requests.post(url, headers=headers, json=data)\n",
    "\n",
    "print(response.status_code)\n",
    "response.json()"
   ]
  },
  {
   "cell_type": "code",
   "execution_count": 30,
   "metadata": {},
   "outputs": [
    {
     "name": "stdout",
     "output_type": "stream",
     "text": [
      "-----------------------------------\n"
     ]
    },
    {
     "data": {
      "text/plain": [
       "{'count': 1,\n",
       " 'next': None,\n",
       " 'previous': None,\n",
       " 'results': [{'id': 2,\n",
       "   'title': '테스트2',\n",
       "   'product': {'price': 10000,\n",
       "    'category': {'id': 1, 'top_category': '하의', 'bottom_category': '슬랙스'},\n",
       "    'option': {'id': 1, 'color': 'blue', 'size': 'M'},\n",
       "    'product_images': [{'id': 5,\n",
       "      'image_url': 'https://example.com/image3.jpg'},\n",
       "     {'id': 6, 'image_url': 'https://example.com/image4.jpg'}]}}]}"
      ]
     },
     "execution_count": 30,
     "metadata": {},
     "output_type": "execute_result"
    }
   ],
   "source": [
    "url = \"http://127.0.0.1:8000/api/articles/list\"\n",
    "headers = {\n",
    "    'Authorization': f'Bearer {ac_token}',\n",
    "}\n",
    "res = requests.get(url, headers=headers)\n",
    "\n",
    "print(\"-----------------------------------\")\n",
    "res.json()\n",
    "\n",
    "# 'count': 2,\n",
    "# 'next': None, : 다음 페이지의 URL을 나타냄 현재 페이지 이후에 더 많은 페이지가 있으면 그 페이지로 이동할 수 있는 URL이 포함 더 이상 페이지가 없으면 None으로 설정\n",
    "# 'previous': None, : 이전 페이지의 URL을 나타냄 현재 페이지 이전에 더 많은 페이지가 있으면 그 페이지로 이동할 수 있는 URL이 포함 첫 페이지라면 None으로 설정\n"
   ]
  },
  {
   "cell_type": "code",
   "execution_count": 6,
   "metadata": {},
   "outputs": [
    {
     "name": "stdout",
     "output_type": "stream",
     "text": [
      "200\n"
     ]
    },
    {
     "data": {
      "text/plain": [
       "{'count': 1,\n",
       " 'next': None,\n",
       " 'previous': None,\n",
       " 'results': [{'id': 2,\n",
       "   'title': '새로운 제목',\n",
       "   'product': {'price': 10000,\n",
       "    'category': {'id': 1, 'top_category': '하의', 'bottom_category': '슬랙스'},\n",
       "    'option': {'id': 1, 'color': 'blue', 'size': 'M'},\n",
       "    'product_images': [{'id': 5,\n",
       "      'image_url': 'https://example.com/image3.jpg'},\n",
       "     {'id': 6, 'image_url': 'https://example.com/image4.jpg'}]}}]}"
      ]
     },
     "execution_count": 6,
     "metadata": {},
     "output_type": "execute_result"
    }
   ],
   "source": [
    "url = \"http://127.0.0.1:8000/api/articles/list\"\n",
    "params = {\n",
    "    'top_category': '하의',\n",
    "    'color': 'blue',\n",
    "    'sPrice': 9000,\n",
    "    'ePrice': 50000,\n",
    "    'size': 'M',\n",
    "    'isSort': 'asc',\n",
    "    'page': 1,\n",
    "    'limit': 20\n",
    "}\n",
    "\n",
    "response = requests.get(url, params=params)\n",
    "print(response.status_code)\n",
    "response.json()"
   ]
  },
  {
   "cell_type": "code",
   "execution_count": 18,
   "metadata": {},
   "outputs": [
    {
     "name": "stdout",
     "output_type": "stream",
     "text": [
      "{\"id\":1,\"color\":\"blue\",\"size\":\"M\"}\n",
      "201\n"
     ]
    }
   ],
   "source": [
    "# 임시 --- DB에 값 넣을때 사용 [다 넣고 없앨 예정]\n",
    "\n",
    "url = 'http://127.0.0.1:8000/api/product-option/'\n",
    "data = {\n",
    "    'color' : \"blue\",\n",
    "    'size' : 'M'\n",
    "}\n",
    "\n",
    "res = requests.post(url, data=data)\n",
    "\n",
    "print(res.text)\n",
    "print(res.status_code)\n",
    "\n",
    "url = 'http://127.0.0.1:8000/api/product-category/'\n",
    "# query_url = \"http://127.0.0.1:8000/api/product-option/?size=M&color=red\"\n",
    "\n",
    "data = {\n",
    "    \"top_category\": \"하의\",\n",
    "    \"bottom_category\": \"슬랙스\"\n",
    "}\n",
    "\n",
    "res = requests.post(url,data=data)\n",
    "print(res.text)\n",
    "print(res.status_code)"
   ]
  },
  {
   "cell_type": "code",
   "execution_count": 28,
   "metadata": {},
   "outputs": [
    {
     "name": "stdout",
     "output_type": "stream",
     "text": [
      "200\n"
     ]
    },
    {
     "data": {
      "text/plain": [
       "{'id': 1,\n",
       " 'product': {'price': 10000,\n",
       "  'category': {'id': 1, 'top_category': '하의', 'bottom_category': '슬랙스'},\n",
       "  'option': {'id': 1, 'color': 'blue', 'size': 'M'},\n",
       "  'product_images': [{'id': 3, 'image_url': 'https://example.com/image3.jpg'},\n",
       "   {'id': 4, 'image_url': 'https://example.com/image4.jpg'}]},\n",
       " 'title': '테스트2',\n",
       " 'content': '테스트2',\n",
       " 'is_sell': True,\n",
       " 'create_at': '2024-07-02',\n",
       " 'update_at': '2024-07-02',\n",
       " 'user': 1}"
      ]
     },
     "execution_count": 28,
     "metadata": {},
     "output_type": "execute_result"
    }
   ],
   "source": [
    "number = 1\n",
    "url = f\"http://127.0.0.1:8000/api/articles/{number}\"\n",
    "\n",
    "\n",
    "res= requests.get(url)\n",
    "print(res.status_code)\n",
    "res.json()\n",
    "\n",
    "# product "
   ]
  },
  {
   "cell_type": "code",
   "execution_count": 29,
   "metadata": {},
   "outputs": [
    {
     "name": "stdout",
     "output_type": "stream",
     "text": [
      "204\n"
     ]
    }
   ],
   "source": [
    "number = 1\n",
    "url = f\"http://127.0.0.1:8000/api/articles/delete/{number}\"\n",
    "\n",
    "headers = {\n",
    "    'Authorization': f'Bearer {ac_token}'\n",
    "}\n",
    "\n",
    "res= requests.delete(url, headers=headers)\n",
    "print(res.status_code)"
   ]
  },
  {
   "cell_type": "code",
   "execution_count": 5,
   "metadata": {},
   "outputs": [
    {
     "name": "stdout",
     "output_type": "stream",
     "text": [
      "200\n"
     ]
    },
    {
     "data": {
      "text/plain": [
       "{'id': 2,\n",
       " 'product': {'price': 10000,\n",
       "  'category': {'id': 1, 'top_category': '하의', 'bottom_category': '슬랙스'},\n",
       "  'option': {'id': 1, 'color': 'blue', 'size': 'M'},\n",
       "  'product_images': [{'id': 5, 'image_url': 'https://example.com/image3.jpg'},\n",
       "   {'id': 6, 'image_url': 'https://example.com/image4.jpg'}]},\n",
       " 'title': '새로운 제목',\n",
       " 'content': '새로운 내용',\n",
       " 'is_sell': True,\n",
       " 'create_at': '2024-07-02',\n",
       " 'update_at': '2024-07-02',\n",
       " 'user': 1}"
      ]
     },
     "execution_count": 5,
     "metadata": {},
     "output_type": "execute_result"
    }
   ],
   "source": [
    "number = 2\n",
    "url = f\"http://127.0.0.1:8000/api/articles/update/{number}\"\n",
    "\n",
    "headers = {\n",
    "    'Authorization': f'Bearer {ac_token}'\n",
    "}\n",
    "\n",
    "data = {\n",
    "    'title': '새로운 제목',\n",
    "    'content': '새로운 내용',\n",
    "    'is_sell': 1,\n",
    "    'product': {\n",
    "        'price': 1000,\n",
    "        \"option\": {\"size\":\"M\", \"color\":\"blue\"},\n",
    "        \"category\": {\"top_category\":\"하의\",\"bottom_category\":\"슬랙스\"},\n",
    "        \"connect_url\": \"https://www.example.com\",\n",
    "        'product_images': [\n",
    "            'https://example.com/image3.jpg',\n",
    "            'https://example.com/image4.jpg'\n",
    "        ],\n",
    "        'status': '사용감 있는 새상품'\n",
    "    }   \n",
    "}\n",
    "\n",
    "res= requests.patch(url, json=data, headers=headers)\n",
    "print(res.status_code)\n",
    "res.json()\n"
   ]
  },
  {
   "cell_type": "code",
   "execution_count": null,
   "metadata": {},
   "outputs": [],
   "source": []
  }
 ],
 "metadata": {
  "kernelspec": {
   "display_name": "base",
   "language": "python",
   "name": "python3"
  },
  "language_info": {
   "codemirror_mode": {
    "name": "ipython",
    "version": 3
   },
   "file_extension": ".py",
   "mimetype": "text/x-python",
   "name": "python",
   "nbconvert_exporter": "python",
   "pygments_lexer": "ipython3",
   "version": "3.11.5"
  }
 },
 "nbformat": 4,
 "nbformat_minor": 2
}
