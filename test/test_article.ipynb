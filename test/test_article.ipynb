{
 "cells": [
  {
   "cell_type": "code",
   "execution_count": 8,
   "metadata": {},
   "outputs": [],
   "source": [
    "import requests"
   ]
  },
  {
   "cell_type": "code",
   "execution_count": 108,
   "metadata": {},
   "outputs": [
    {
     "name": "stdout",
     "output_type": "stream",
     "text": [
      "<Response [400]>\n"
     ]
    }
   ],
   "source": [
    "# 회원가입 post\n",
    "signup_url = 'http://127.0.0.1:8000/api/accounts/signup/'\n",
    "data = {\n",
    "    'username' : 'sujeong1',\n",
    "    'password' : '12345123456', # 10자이상\n",
    "    'phone_number' : '01091241234',\n",
    "    'nickname' : 'sujeong1',\n",
    "    'email' : 'sujeong1@ejuhh3.io', # emailfield\n",
    "}\n",
    "res = requests.post(signup_url, data=data)\n",
    "\n",
    "res.status_code\n",
    "print(res)"
   ]
  },
  {
   "cell_type": "code",
   "execution_count": 109,
   "metadata": {},
   "outputs": [
    {
     "name": "stdout",
     "output_type": "stream",
     "text": [
      "200\n",
      "{\"user\":{\"email\":\"sujeong1@ejuhh3.io\"},\"message\":\"login Success\"}\n"
     ]
    }
   ],
   "source": [
    "# 로그인\n",
    "login_url = 'http://127.0.0.1:8000/api/accounts/login/'\n",
    "data = {\n",
    "    'email': 'sujeong1@ejuhh3.io',\n",
    "    'password': '12345123456'\n",
    "}\n",
    "\n",
    "res = requests.post(login_url, data=data)\n",
    "print(res.status_code)\n",
    "print(res.text)\n",
    "ref_cookies = res.cookies\n",
    "ac_token = res.headers['Authorization'].split(' ')[1]"
   ]
  },
  {
   "cell_type": "code",
   "execution_count": 110,
   "metadata": {},
   "outputs": [
    {
     "name": "stdout",
     "output_type": "stream",
     "text": [
      "201\n",
      "{\"id\":1,\"product\":{\"id\":1,\"price\":10000,\"connect_url\":\"https://www.example.com\",\"product_type\":true,\"product_status\":\"사용감 있는 새상품\",\"category\":null,\"option\":null},\"article_title\":\"테스트2\",\"article_content\":\"테스트2\",\"is_sell\":true,\"create_at\":\"2024-06-27\",\"update_at\":\"2024-06-27\",\"user\":1}\n"
     ]
    }
   ],
   "source": [
    "import requests\n",
    "\n",
    "url = \"http://127.0.0.1:8000/api/articles/\"\n",
    "headers = {\n",
    "    'Authorization': f'Bearer {ac_token}',\n",
    "}\n",
    "\n",
    "data = {\n",
    "    \"article_title\": \"테스트2\",\n",
    "    \"article_content\": \"테스트2\",\n",
    "    \"product\": {\n",
    "        \"price\": 10000,\n",
    "        \"connect_url\": \"https://www.example.com\",\n",
    "        \"product_type\": 1,\n",
    "        \"product_image\": [\n",
    "            1, 2\n",
    "        ],\n",
    "        'product_status': '사용감 있는 새상품'\n",
    "    }\n",
    "}\n",
    "\n",
    "response = requests.post(url, headers=headers, json=data)\n",
    "\n",
    "print(response.status_code)\n",
    "print(response.text)"
   ]
  },
  {
   "cell_type": "code",
   "execution_count": 115,
   "metadata": {},
   "outputs": [
    {
     "data": {
      "text/plain": [
       "{'id': 1,\n",
       " 'product': {'id': 1,\n",
       "  'price': 10000,\n",
       "  'connect_url': 'https://www.example.com',\n",
       "  'product_type': True,\n",
       "  'product_status': '사용감 있는 새상품',\n",
       "  'category': None,\n",
       "  'option': None},\n",
       " 'article_title': '테스트2',\n",
       " 'article_content': '테스트2',\n",
       " 'is_sell': True,\n",
       " 'create_at': '2024-06-27',\n",
       " 'update_at': '2024-06-27',\n",
       " 'user': 1}"
      ]
     },
     "execution_count": 115,
     "metadata": {},
     "output_type": "execute_result"
    }
   ],
   "source": [
    "url = \"http://127.0.0.1:8000/api/articles/list\"\n",
    "headers = {\n",
    "    'Authorization': f'Bearer {ac_token}',\n",
    "}\n",
    "res = requests.get(url, headers=headers)\n",
    "res.json()[-1]"
   ]
  },
  {
   "cell_type": "code",
   "execution_count": null,
   "metadata": {},
   "outputs": [],
   "source": []
  },
  {
   "cell_type": "code",
   "execution_count": null,
   "metadata": {},
   "outputs": [],
   "source": []
  }
 ],
 "metadata": {
  "kernelspec": {
   "display_name": "base",
   "language": "python",
   "name": "python3"
  },
  "language_info": {
   "codemirror_mode": {
    "name": "ipython",
    "version": 3
   },
   "file_extension": ".py",
   "mimetype": "text/x-python",
   "name": "python",
   "nbconvert_exporter": "python",
   "pygments_lexer": "ipython3",
   "version": "3.11.5"
  }
 },
 "nbformat": 4,
 "nbformat_minor": 2
}
