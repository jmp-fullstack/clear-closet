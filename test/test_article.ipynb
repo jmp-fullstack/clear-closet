{
 "cells": [
  {
   "cell_type": "code",
   "execution_count": 1,
   "metadata": {},
   "outputs": [],
   "source": [
    "import requests"
   ]
  },
  {
   "cell_type": "code",
   "execution_count": 2,
   "metadata": {},
   "outputs": [
    {
     "name": "stdout",
     "output_type": "stream",
     "text": [
      "<Response [400]>\n"
     ]
    }
   ],
   "source": [
    "# 회원가입 post\n",
    "signup_url = 'http://127.0.0.1:8000/api/accounts/signup/'\n",
    "data = {\n",
    "    'username' : 'sujeong1',\n",
    "    'password' : '12345123456', # 10자이상\n",
    "    'phone_number' : '01091241234',\n",
    "    'nickname' : 'sujeong1',\n",
    "    'email' : 'sujeong1@ejuhh3.io', # emailfield\n",
    "}\n",
    "res = requests.post(signup_url, data=data)\n",
    "\n",
    "res.status_code\n",
    "print(res)"
   ]
  },
  {
   "cell_type": "code",
   "execution_count": 4,
   "metadata": {},
   "outputs": [
    {
     "name": "stdout",
     "output_type": "stream",
     "text": [
      "200\n"
     ]
    }
   ],
   "source": [
    "# 로그인\n",
    "login_url = 'http://127.0.0.1:8000/api/accounts/login/'\n",
    "data = {\n",
    "    'email': 'sujeong1@ejuhh3.io',\n",
    "    'password': '12345123456'\n",
    "}\n",
    "\n",
    "res = requests.post(login_url, data=data)\n",
    "print(res.status_code)\n",
    "ref_cookies = res.cookies\n",
    "ac_token = res.json()['accessToken'].split(' ')[1]"
   ]
  },
  {
   "cell_type": "code",
   "execution_count": 28,
   "metadata": {},
   "outputs": [
    {
     "name": "stdout",
     "output_type": "stream",
     "text": [
      "201\n",
      "{'id': 9, 'product': {'id': 12, 'category': 1, 'option': 4, 'product_images': [{'id': 1, 'image_url': 'https://example.com/image1.jpg', 'user': None, 'product': [12]}, {'id': 2, 'image_url': 'https://example.com/image2.jpg', 'user': None, 'product': [12]}], 'price': 10000, 'connect_url': 'https://www.example.com', 'product_type': True, 'product_status': '사용감 있는 새상품'}, 'article_title': '테스트2', 'article_content': '테스트2', 'is_sell': True, 'create_at': '2024-06-28', 'update_at': '2024-06-28', 'user': 1}\n"
     ]
    }
   ],
   "source": [
    "import requests\n",
    "\n",
    "url = \"http://127.0.0.1:8000/api/articles/\"\n",
    "headers = {\n",
    "    'Authorization': f'Bearer {ac_token}',\n",
    "}\n",
    "\n",
    "data = {\n",
    "    \"article_title\": \"테스트2\",\n",
    "    \"article_content\": \"테스트2\",\n",
    "    \"product\": {\n",
    "        \"option\": {\"size\":\"M\", \"color\":\"blue\"},\n",
    "        \"category\": {\"top_category\":\"상의\",\"bottom_category\":\"반팔\"},\n",
    "        \"price\": 10000,\n",
    "        \"connect_url\": \"https://www.example.com\",\n",
    "        \"product_type\": 1,\n",
    "        \"product_image\": [\n",
    "            \"https://example.com/image1.jpg\", \"https://example.com/image2.jpg\"\n",
    "        ],\n",
    "        'product_status': '사용감 있는 새상품'\n",
    "    }\n",
    "}\n",
    "\n",
    "response = requests.post(url, headers=headers, json=data)\n",
    "\n",
    "print(response.status_code)\n",
    "print(response.json())"
   ]
  },
  {
   "cell_type": "code",
   "execution_count": 8,
   "metadata": {},
   "outputs": [
    {
     "name": "stdout",
     "output_type": "stream",
     "text": [
      "[{'product': {'price': 10000, 'category': None, 'product_images': []}, 'article_title': '테스트2'}, {'product': {'price': 10000, 'category': None, 'product_images': []}, 'article_title': '테스트2'}, {'product': {'price': 10000, 'category': {'id': 1, 'top_category': '상의', 'bottom_category': '반팔'}, 'product_images': []}, 'article_title': '테스트2'}, {'product': {'price': 10000, 'category': {'id': 1, 'top_category': '상의', 'bottom_category': '반팔'}, 'product_images': []}, 'article_title': '테스트2'}, {'product': {'price': 10000, 'category': {'id': 1, 'top_category': '상의', 'bottom_category': '반팔'}, 'product_images': []}, 'article_title': '테스트2'}, {'product': {'price': 10000, 'category': {'id': 1, 'top_category': '상의', 'bottom_category': '반팔'}, 'product_images': []}, 'article_title': '테스트2'}, {'product': {'price': 10000, 'category': {'id': 1, 'top_category': '상의', 'bottom_category': '반팔'}, 'product_images': []}, 'article_title': '테스트2'}, {'product': {'price': 10000, 'category': {'id': 1, 'top_category': '상의', 'bottom_category': '반팔'}, 'product_images': []}, 'article_title': '테스트2'}, {'product': {'price': 10000, 'category': {'id': 1, 'top_category': '상의', 'bottom_category': '반팔'}, 'product_images': [{'id': 1, 'image_url': 'https://example.com/image1.jpg', 'user': None, 'product': [12]}, {'id': 2, 'image_url': 'https://example.com/image2.jpg', 'user': None, 'product': [12]}]}, 'article_title': '테스트2'}]\n",
      "-----------------------------------\n"
     ]
    },
    {
     "data": {
      "text/plain": [
       "{'product': {'price': 10000,\n",
       "  'category': {'id': 1, 'top_category': '상의', 'bottom_category': '반팔'},\n",
       "  'product_images': [{'id': 1,\n",
       "    'image_url': 'https://example.com/image1.jpg',\n",
       "    'user': None,\n",
       "    'product': [12]},\n",
       "   {'id': 2,\n",
       "    'image_url': 'https://example.com/image2.jpg',\n",
       "    'user': None,\n",
       "    'product': [12]}]},\n",
       " 'article_title': '테스트2'}"
      ]
     },
     "execution_count": 8,
     "metadata": {},
     "output_type": "execute_result"
    }
   ],
   "source": [
    "url = \"http://127.0.0.1:8000/api/articles/list\"\n",
    "headers = {\n",
    "    'Authorization': f'Bearer {ac_token}',\n",
    "}\n",
    "res = requests.get(url, headers=headers)\n",
    "print(res.json())\n",
    "print(\"-----------------------------------\")\n",
    "res.json()[-1]\n"
   ]
  },
  {
   "cell_type": "code",
   "execution_count": 13,
   "metadata": {},
   "outputs": [
    {
     "name": "stdout",
     "output_type": "stream",
     "text": [
      "{\"id\":4,\"color\":\"blue\",\"size\":\"M\"}\n",
      "201\n"
     ]
    }
   ],
   "source": [
    "# 임시 --- DB에 값 넣을때 사용 [다 넣고 없앨 예정]\n",
    "\n",
    "url = 'http://127.0.0.1:8000/api/product-option/'\n",
    "data = {\n",
    "    'color' : \"blue\",\n",
    "    'size' : 'M'\n",
    "}\n",
    "\n",
    "res = requests.post(url, data=data)\n",
    "\n",
    "print(res.text)\n",
    "print(res.status_code)"
   ]
  },
  {
   "cell_type": "code",
   "execution_count": 62,
   "metadata": {},
   "outputs": [
    {
     "name": "stdout",
     "output_type": "stream",
     "text": [
      "{\"id\":4,\"color\":\"blue\",\"size\":\"M\"}\n",
      "200\n"
     ]
    }
   ],
   "source": [
    "url = 'http://127.0.0.1:8000/api/product-option/'\n",
    "# query_url = \"http://127.0.0.1:8000/api/product-option/?size=M&color=red\"\n",
    "\n",
    "params = {\n",
    "    \"size\": \"M\",\n",
    "    \"color\": \"blue\"\n",
    "}\n",
    "\n",
    "\n",
    "res = requests.get(url,params=params)\n",
    "print(res.text)\n",
    "print(res.status_code)"
   ]
  },
  {
   "cell_type": "code",
   "execution_count": 89,
   "metadata": {},
   "outputs": [
    {
     "name": "stdout",
     "output_type": "stream",
     "text": [
      "{\"id\":1,\"top_category\":\"상의\",\"bottom_category\":\"반팔\"}\n",
      "201\n"
     ]
    }
   ],
   "source": [
    "url = 'http://127.0.0.1:8000/api/product-category/'\n",
    "# query_url = \"http://127.0.0.1:8000/api/product-option/?size=M&color=red\"\n",
    "\n",
    "data = {\n",
    "    \"top_category\": \"상의\",\n",
    "    \"bottom_category\": \"반팔\"\n",
    "}\n",
    "\n",
    "\n",
    "res = requests.post(url,data=data)\n",
    "print(res.text)\n",
    "print(res.status_code)"
   ]
  },
  {
   "cell_type": "code",
   "execution_count": null,
   "metadata": {},
   "outputs": [],
   "source": []
  }
 ],
 "metadata": {
  "kernelspec": {
   "display_name": "base",
   "language": "python",
   "name": "python3"
  },
  "language_info": {
   "codemirror_mode": {
    "name": "ipython",
    "version": 3
   },
   "file_extension": ".py",
   "mimetype": "text/x-python",
   "name": "python",
   "nbconvert_exporter": "python",
   "pygments_lexer": "ipython3",
   "version": "3.11.5"
  }
 },
 "nbformat": 4,
 "nbformat_minor": 2
}
