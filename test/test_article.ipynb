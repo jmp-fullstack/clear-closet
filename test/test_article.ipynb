{
 "cells": [
  {
   "cell_type": "code",
   "execution_count": 1,
   "metadata": {},
   "outputs": [],
   "source": [
    "import requests"
   ]
  },
  {
   "cell_type": "code",
   "execution_count": 52,
   "metadata": {},
   "outputs": [
    {
     "name": "stdout",
     "output_type": "stream",
     "text": [
      "<Response [201]>\n"
     ]
    }
   ],
   "source": [
    "# 회원가입 post\n",
    "signup_url = 'http://127.0.0.1:8000/api/accounts/signup/'\n",
    "data = {\n",
    "    'username' : 'sujeong25',\n",
    "    'password' : '12345423456', # 10자이상\n",
    "    'phone_number' : '01091241434',\n",
    "    'nickname' : 'sujeong25',\n",
    "    'email' : 'sujeong25@ejuhh3.io', # emailfield\n",
    "}\n",
    "res = requests.post(signup_url, data=data)\n",
    "\n",
    "res.status_code\n",
    "print(res)"
   ]
  },
  {
   "cell_type": "code",
   "execution_count": 6,
   "metadata": {},
   "outputs": [
    {
     "name": "stdout",
     "output_type": "stream",
     "text": [
      "200\n"
     ]
    }
   ],
   "source": [
    "# 로그인\n",
    "login_url = 'http://127.0.0.1:8000/api/accounts/login/'\n",
    "data = {\n",
    "    'email': 'sujeong25@ejuhh3.io',\n",
    "    'password': '12345423456'\n",
    "}\n",
    "\n",
    "res = requests.post(login_url, data=data)\n",
    "print(res.status_code)\n",
    "ref_cookies = res.cookies\n",
    "ac_token = res.json()['accessToken'].split(' ')[1]"
   ]
  },
  {
   "cell_type": "code",
   "execution_count": 7,
   "metadata": {},
   "outputs": [
    {
     "name": "stdout",
     "output_type": "stream",
     "text": [
      "201\n",
      "{'id': 28, 'product': {'id': 41, 'category': 3, 'option': 4, 'product_images': [{'id': 44, 'image_url': 'https://example.com/image3.jpg'}, {'id': 45, 'image_url': 'https://example.com/image4.jpg'}], 'price': 10000, 'connect_url': 'https://www.example.com', 'product_type': True, 'product_status': '사용감 있는 새상품'}, 'article_title': '테스트2', 'article_content': '테스트2', 'is_sell': True, 'create_at': '2024-07-01', 'update_at': '2024-07-01', 'user': 3}\n"
     ]
    }
   ],
   "source": [
    "import requests\n",
    "\n",
    "url = \"http://127.0.0.1:8000/api/articles/\"\n",
    "headers = {\n",
    "    'Authorization': f'Bearer {ac_token}',\n",
    "}\n",
    "\n",
    "data = {\n",
    "    \"article_title\": \"테스트2\",\n",
    "    \"article_content\": \"테스트2\",\n",
    "    \"product\": {\n",
    "        \"option\": {\"size\":\"M\", \"color\":\"blue\"},\n",
    "        \"category\": {\"top_category\":\"하의\",\"bottom_category\":\"슬랙스\"},\n",
    "        \"price\": 10000,\n",
    "        \"connect_url\": \"https://www.example.com\",\n",
    "        \"product_type\": 1,\n",
    "        \"product_image\": [\"https://example.com/image3.jpg\", \"https://example.com/image4.jpg\"\n",
    "        ],\n",
    "        'product_status': '사용감 있는 새상품'\n",
    "    }\n",
    "}\n",
    "\n",
    "response = requests.post(url, headers=headers, json=data)\n",
    "\n",
    "print(response.status_code)\n",
    "print(response.json())"
   ]
  },
  {
   "cell_type": "code",
   "execution_count": 8,
   "metadata": {},
   "outputs": [
    {
     "name": "stdout",
     "output_type": "stream",
     "text": [
      "-----------------------------------\n"
     ]
    },
    {
     "data": {
      "text/plain": [
       "{'id': 28,\n",
       " 'article_title': '테스트2',\n",
       " 'article_content': '테스트2',\n",
       " 'product': {'price': 10000,\n",
       "  'category': {'id': 3, 'top_category': '하의', 'bottom_category': '슬랙스'},\n",
       "  'option': {'id': 4, 'color': 'blue', 'size': 'M'},\n",
       "  'product_images': [{'id': 44, 'image_url': 'https://example.com/image3.jpg'},\n",
       "   {'id': 45, 'image_url': 'https://example.com/image4.jpg'}]}}"
      ]
     },
     "execution_count": 8,
     "metadata": {},
     "output_type": "execute_result"
    }
   ],
   "source": [
    "url = \"http://127.0.0.1:8000/api/articles/list\"\n",
    "headers = {\n",
    "    'Authorization': f'Bearer {ac_token}',\n",
    "}\n",
    "res = requests.get(url, headers=headers)\n",
    "\n",
    "print(\"-----------------------------------\")\n",
    "res.json()[-1]\n"
   ]
  },
  {
   "cell_type": "code",
   "execution_count": 13,
   "metadata": {},
   "outputs": [
    {
     "name": "stdout",
     "output_type": "stream",
     "text": [
      "{\"id\":4,\"color\":\"blue\",\"size\":\"M\"}\n",
      "201\n"
     ]
    }
   ],
   "source": [
    "# 임시 --- DB에 값 넣을때 사용 [다 넣고 없앨 예정]\n",
    "\n",
    "url = 'http://127.0.0.1:8000/api/product-option/'\n",
    "data = {\n",
    "    'color' : \"blue\",\n",
    "    'size' : 'M'\n",
    "}\n",
    "\n",
    "res = requests.post(url, data=data)\n",
    "\n",
    "print(res.text)\n",
    "print(res.status_code)"
   ]
  },
  {
   "cell_type": "code",
   "execution_count": 62,
   "metadata": {},
   "outputs": [
    {
     "name": "stdout",
     "output_type": "stream",
     "text": [
      "{\"id\":4,\"color\":\"blue\",\"size\":\"M\"}\n",
      "200\n"
     ]
    }
   ],
   "source": [
    "url = 'http://127.0.0.1:8000/api/product-option/'\n",
    "# query_url = \"http://127.0.0.1:8000/api/product-option/?size=M&color=red\"\n",
    "\n",
    "params = {\n",
    "    \"size\": \"M\",\n",
    "    \"color\": \"blue\"\n",
    "}\n",
    "\n",
    "\n",
    "res = requests.get(url,params=params)\n",
    "print(res.text)\n",
    "print(res.status_code)"
   ]
  },
  {
   "cell_type": "code",
   "execution_count": 46,
   "metadata": {},
   "outputs": [
    {
     "name": "stdout",
     "output_type": "stream",
     "text": [
      "{\"id\":3,\"top_category\":\"하의\",\"bottom_category\":\"슬랙스\"}\n",
      "201\n"
     ]
    }
   ],
   "source": [
    "url = 'http://127.0.0.1:8000/api/product-category/'\n",
    "# query_url = \"http://127.0.0.1:8000/api/product-option/?size=M&color=red\"\n",
    "\n",
    "data = {\n",
    "    \"top_category\": \"하의\",\n",
    "    \"bottom_category\": \"슬랙스\"\n",
    "}\n",
    "\n",
    "\n",
    "res = requests.post(url,data=data)\n",
    "print(res.text)\n",
    "print(res.status_code)"
   ]
  },
  {
   "cell_type": "code",
   "execution_count": 9,
   "metadata": {},
   "outputs": [
    {
     "name": "stdout",
     "output_type": "stream",
     "text": [
      "200\n"
     ]
    },
    {
     "data": {
      "text/plain": [
       "{'id': 22,\n",
       " 'article_title': '새로운 제목',\n",
       " 'article_content': '새로운 내용',\n",
       " 'product': {'price': 10000,\n",
       "  'category': {'id': 3, 'top_category': '하의', 'bottom_category': '슬랙스'},\n",
       "  'option': {'id': 4, 'color': 'blue', 'size': 'M'},\n",
       "  'product_images': [{'id': 30, 'image_url': 'https://example.com/image3.jpg'},\n",
       "   {'id': 31, 'image_url': 'https://example.com/image4.jpg'}]}}"
      ]
     },
     "execution_count": 9,
     "metadata": {},
     "output_type": "execute_result"
    }
   ],
   "source": [
    "number = 22\n",
    "url = f\"http://127.0.0.1:8000/api/articles/{number}\"\n",
    "\n",
    "\n",
    "res= requests.get(url)\n",
    "print(res.status_code)\n",
    "res.json()\n",
    "\n",
    "# product "
   ]
  },
  {
   "cell_type": "code",
   "execution_count": 11,
   "metadata": {},
   "outputs": [
    {
     "name": "stdout",
     "output_type": "stream",
     "text": [
      "204\n"
     ]
    }
   ],
   "source": [
    "number = 28\n",
    "url = f\"http://127.0.0.1:8000/api/articles/delete/{number}\"\n",
    "\n",
    "headers = {\n",
    "    'Authorization': f'Bearer {ac_token}'\n",
    "}\n",
    "\n",
    "res= requests.delete(url, headers=headers)\n",
    "print(res.status_code)"
   ]
  },
  {
   "cell_type": "code",
   "execution_count": 12,
   "metadata": {},
   "outputs": [
    {
     "name": "stdout",
     "output_type": "stream",
     "text": [
      "200\n"
     ]
    },
    {
     "data": {
      "text/plain": [
       "{'id': 22,\n",
       " 'product': {'id': 34,\n",
       "  'category': 3,\n",
       "  'option': 4,\n",
       "  'product_images': [{'id': 30, 'image_url': 'https://example.com/image3.jpg'},\n",
       "   {'id': 31, 'image_url': 'https://example.com/image4.jpg'}],\n",
       "  'price': 10000,\n",
       "  'connect_url': 'https://www.example.com',\n",
       "  'product_type': True,\n",
       "  'product_status': '사용감 있는 새상품'},\n",
       " 'article_title': '새로운 제목',\n",
       " 'article_content': '새로운 내용',\n",
       " 'is_sell': True,\n",
       " 'create_at': '2024-07-01',\n",
       " 'update_at': '2024-07-01',\n",
       " 'user': 3}"
      ]
     },
     "execution_count": 12,
     "metadata": {},
     "output_type": "execute_result"
    }
   ],
   "source": [
    "number = 22\n",
    "url = f\"http://127.0.0.1:8000/api/articles/update/{number}\"\n",
    "\n",
    "headers = {\n",
    "    'Authorization': f'Bearer {ac_token}'\n",
    "}\n",
    "\n",
    "data = {\n",
    "    'article_title': '새로운 제목',\n",
    "    'article_content': '새로운 내용',\n",
    "    'is_sell': True,\n",
    "    'product': {\n",
    "        'price': 1000,\n",
    "        'category': 2,\n",
    "        'option': 2,\n",
    "        \"connect_url\": \"https://www.example.com\",\n",
    "        'product_images': [\n",
    "            'https://example.com/image3.jpg',\n",
    "            'https://example.com/image4.jpg'\n",
    "        ],\n",
    "        'product_status': '사용감 있는 새상품'\n",
    "    }   \n",
    "}\n",
    "\n",
    "res= requests.put(url, json=data, headers=headers)\n",
    "print(res.status_code)\n",
    "res.json()\n"
   ]
  },
  {
   "cell_type": "code",
   "execution_count": null,
   "metadata": {},
   "outputs": [],
   "source": []
  },
  {
   "cell_type": "code",
   "execution_count": null,
   "metadata": {},
   "outputs": [],
   "source": []
  }
 ],
 "metadata": {
  "kernelspec": {
   "display_name": "base",
   "language": "python",
   "name": "python3"
  },
  "language_info": {
   "codemirror_mode": {
    "name": "ipython",
    "version": 3
   },
   "file_extension": ".py",
   "mimetype": "text/x-python",
   "name": "python",
   "nbconvert_exporter": "python",
   "pygments_lexer": "ipython3",
   "version": "3.11.5"
  }
 },
 "nbformat": 4,
 "nbformat_minor": 2
}
