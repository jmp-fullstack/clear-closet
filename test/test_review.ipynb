{
 "cells": [
  {
   "cell_type": "code",
   "execution_count": 1,
   "metadata": {},
   "outputs": [],
   "source": [
    "import requests"
   ]
  },
  {
   "cell_type": "code",
   "execution_count": 3,
   "metadata": {},
   "outputs": [
    {
     "name": "stdout",
     "output_type": "stream",
     "text": [
      "<Response [201]>\n"
     ]
    }
   ],
   "source": [
    "# 회원가입 post\n",
    "signup_url = 'http://127.0.0.1:8000/api/accounts/signup/'\n",
    "data = {\n",
    "    'username' : 'review1',\n",
    "    'password' : 'review123456', # 10자이상\n",
    "    'phone_number' : '010123456447',\n",
    "    'nickname' : 'review1',\n",
    "    'email' : 'review1@ejuhh3.io', # emailfield\n",
    "}\n",
    "res = requests.post(signup_url, data=data)\n",
    "\n",
    "res.status_code\n",
    "print(res)"
   ]
  },
  {
   "cell_type": "code",
   "execution_count": 4,
   "metadata": {},
   "outputs": [
    {
     "name": "stdout",
     "output_type": "stream",
     "text": [
      "200\n"
     ]
    }
   ],
   "source": [
    "# 로그인\n",
    "login_url = 'http://127.0.0.1:8000/api/accounts/login/'\n",
    "data = {\n",
    "    'email': 'review1@ejuhh3.io',\n",
    "    'password': 'review123456'\n",
    "}\n",
    "\n",
    "res = requests.post(login_url, data=data)\n",
    "print(res.status_code)\n",
    "ref_cookies = res.cookies\n",
    "ac_token = res.json()['accessToken'].split(' ')[1]"
   ]
  },
  {
   "cell_type": "code",
   "execution_count": 7,
   "metadata": {},
   "outputs": [
    {
     "name": "stdout",
     "output_type": "stream",
     "text": [
      "201\n"
     ]
    },
    {
     "data": {
      "text/plain": [
       "{'id': 1,\n",
       " 'buyer': 5,\n",
       " 'seller': 1,\n",
       " 'review_title': '거래 굿',\n",
       " 'review_content': '친절하시네요ㅎㅎ',\n",
       " 'created_at': '2024-07-01T16:58:25.251951+09:00'}"
      ]
     },
     "execution_count": 7,
     "metadata": {},
     "output_type": "execute_result"
    }
   ],
   "source": [
    "article_id = 2\n",
    "url = f\"http://127.0.0.1:8000/api/reviews/{article_id}/\"\n",
    "headers = {\n",
    "    'Authorization': f'Bearer {ac_token}',\n",
    "}\n",
    "data = {\n",
    "  \"review_title\": \"거래 굿\",\n",
    "  \"review_content\": \"친절하시네요ㅎㅎ\"\n",
    "}\n",
    "\n",
    "res = requests.post(url, headers=headers, data=data)\n",
    "print(res.status_code)\n",
    "res.json()\n",
    "\n"
   ]
  },
  {
   "cell_type": "code",
   "execution_count": 8,
   "metadata": {},
   "outputs": [
    {
     "name": "stdout",
     "output_type": "stream",
     "text": [
      "200\n"
     ]
    },
    {
     "data": {
      "text/plain": [
       "[{'id': 1,\n",
       "  'buyer': 5,\n",
       "  'seller': 1,\n",
       "  'review_title': '거래 굿',\n",
       "  'review_content': '친절하시네요ㅎㅎ',\n",
       "  'created_at': '2024-07-01T16:58:25.251951+09:00'}]"
      ]
     },
     "execution_count": 8,
     "metadata": {},
     "output_type": "execute_result"
    }
   ],
   "source": [
    "url = \"http://127.0.0.1:8000/api/reviews/\"\n",
    "headers = {\n",
    "    'Authorization': f'Bearer {ac_token}',\n",
    "}\n",
    "\n",
    "res = requests.get(url, headers=headers)\n",
    "print(res.status_code)\n",
    "res.json()"
   ]
  },
  {
   "cell_type": "code",
   "execution_count": null,
   "metadata": {},
   "outputs": [],
   "source": []
  }
 ],
 "metadata": {
  "kernelspec": {
   "display_name": "base",
   "language": "python",
   "name": "python3"
  },
  "language_info": {
   "codemirror_mode": {
    "name": "ipython",
    "version": 3
   },
   "file_extension": ".py",
   "mimetype": "text/x-python",
   "name": "python",
   "nbconvert_exporter": "python",
   "pygments_lexer": "ipython3",
   "version": "3.11.5"
  }
 },
 "nbformat": 4,
 "nbformat_minor": 2
}
