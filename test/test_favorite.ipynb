{
 "cells": [
  {
   "cell_type": "code",
   "execution_count": 1,
   "metadata": {},
   "outputs": [],
   "source": [
    "import requests"
   ]
  },
  {
   "cell_type": "code",
   "execution_count": 2,
   "metadata": {},
   "outputs": [
    {
     "name": "stdout",
     "output_type": "stream",
     "text": [
      "<Response [201]>\n"
     ]
    }
   ],
   "source": [
    "# 회원가입 post\n",
    "signup_url = 'http://127.0.0.1:8000/api/accounts/signup/'\n",
    "data = {\n",
    "    'username' : 'favorite1',\n",
    "    'password' : '123456123456', # 10자이상\n",
    "    'phone_number' : '01045645647',\n",
    "    'nickname' : 'favorite1',\n",
    "    'email' : 'favorite1@ejuhh3.io', # emailfield\n",
    "}\n",
    "res = requests.post(signup_url, data=data)\n",
    "\n",
    "res.status_code\n",
    "print(res)"
   ]
  },
  {
   "cell_type": "code",
   "execution_count": 3,
   "metadata": {},
   "outputs": [
    {
     "name": "stdout",
     "output_type": "stream",
     "text": [
      "200\n"
     ]
    }
   ],
   "source": [
    "# 로그인\n",
    "login_url = 'http://127.0.0.1:8000/api/accounts/login/'\n",
    "data = {\n",
    "    'email': 'favorite1@ejuhh3.io',\n",
    "    'password': '123456123456'\n",
    "}\n",
    "\n",
    "res = requests.post(login_url, data=data)\n",
    "print(res.status_code)\n",
    "ref_cookies = res.cookies\n",
    "ac_token = res.json()['accessToken'].split(' ')[1]"
   ]
  },
  {
   "cell_type": "code",
   "execution_count": 7,
   "metadata": {},
   "outputs": [
    {
     "name": "stdout",
     "output_type": "stream",
     "text": [
      "201\n"
     ]
    },
    {
     "data": {
      "text/plain": [
       "{'message': '게시글 좋아요 눌림'}"
      ]
     },
     "execution_count": 7,
     "metadata": {},
     "output_type": "execute_result"
    }
   ],
   "source": [
    "# 좋아요 눌리기 (첫번쨰 = 좋아요 눌리기 , 두번째 = 좋아요 취소하기)\n",
    "article_id = 2\n",
    "url = f\"http://127.0.0.1:8000/api/favorites/{article_id}/\"\n",
    "headers = {\n",
    "    'Authorization': f'Bearer {ac_token}',\n",
    "}\n",
    "\n",
    "response = requests.post(url, headers=headers)\n",
    "\n",
    "print(response.status_code)\n",
    "response.json()"
   ]
  },
  {
   "cell_type": "code",
   "execution_count": 8,
   "metadata": {},
   "outputs": [
    {
     "name": "stdout",
     "output_type": "stream",
     "text": [
      "200\n",
      "[{'id': 2, 'article': {'id': 2, 'title': '새로운 제목', 'product': {'price': 10000, 'category': {'id': 1, 'top_category': '하의', 'bottom_category': '슬랙스'}, 'option': {'id': 1, 'color': 'blue', 'size': 'M'}, 'product_images': [{'id': 5, 'image_url': 'https://example.com/image3.jpg'}, {'id': 6, 'image_url': 'https://example.com/image4.jpg'}]}}, 'create_at': '2024-07-02', 'user': 3}]\n"
     ]
    }
   ],
   "source": [
    "# 좋아요 한 목록 조회\n",
    "url = \"http://127.0.0.1:8000/api/favorites/\"\n",
    "headers = {\n",
    "    'Authorization': f'Bearer {ac_token}',\n",
    "}\n",
    "\n",
    "response = requests.get(url, headers=headers)\n",
    "print(response.status_code)\n",
    "print(response.json())\n"
   ]
  },
  {
   "cell_type": "code",
   "execution_count": null,
   "metadata": {},
   "outputs": [],
   "source": []
  }
 ],
 "metadata": {
  "kernelspec": {
   "display_name": "base",
   "language": "python",
   "name": "python3"
  },
  "language_info": {
   "codemirror_mode": {
    "name": "ipython",
    "version": 3
   },
   "file_extension": ".py",
   "mimetype": "text/x-python",
   "name": "python",
   "nbconvert_exporter": "python",
   "pygments_lexer": "ipython3",
   "version": "3.11.5"
  }
 },
 "nbformat": 4,
 "nbformat_minor": 2
}
