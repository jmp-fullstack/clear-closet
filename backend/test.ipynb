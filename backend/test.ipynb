{
 "cells": [
  {
   "cell_type": "code",
   "execution_count": 2,
   "metadata": {},
   "outputs": [],
   "source": [
    "import requests"
   ]
  },
  {
   "cell_type": "code",
   "execution_count": 26,
   "metadata": {},
   "outputs": [],
   "source": [
    "url = \"http://127.0.0.1:8000/api/accounts/login/\"\n",
    "\n",
    "data = {\n",
    "    'username': 'test1',\n",
    "    'password': 'password'\n",
    "}\n",
    "\n",
    "res = requests.post(url, data=data)\n",
    "# token = res.json()['refresh']\n",
    "token = res.json()['access']"
   ]
  },
  {
   "cell_type": "code",
   "execution_count": 27,
   "metadata": {},
   "outputs": [
    {
     "name": "stdout",
     "output_type": "stream",
     "text": [
      "404\n",
      "{'detail': 'User not found or not authorized'}\n"
     ]
    }
   ],
   "source": [
    "url = \"http://127.0.0.1:8000/api/accounts/find/user/\"\n",
    "\n",
    "params = {\n",
    "    'email': 'test1@example.com',\n",
    "    'phone_number': \"test1\",\n",
    "}\n",
    "headers = {\n",
    "    'Authorization': f'Bearer {token}',\n",
    "}\n",
    "\n",
    "res = requests.post(url, headers=headers, params=params)\n",
    "\n",
    "print(res.status_code)\n",
    "print(res.json())"
   ]
  },
  {
   "cell_type": "code",
   "execution_count": null,
   "metadata": {},
   "outputs": [],
   "source": []
  }
 ],
 "metadata": {
  "kernelspec": {
   "display_name": "django",
   "language": "python",
   "name": "python3"
  },
  "language_info": {
   "codemirror_mode": {
    "name": "ipython",
    "version": 3
   },
   "file_extension": ".py",
   "mimetype": "text/x-python",
   "name": "python",
   "nbconvert_exporter": "python",
   "pygments_lexer": "ipython3",
   "version": "3.9.19"
  }
 },
 "nbformat": 4,
 "nbformat_minor": 2
}
