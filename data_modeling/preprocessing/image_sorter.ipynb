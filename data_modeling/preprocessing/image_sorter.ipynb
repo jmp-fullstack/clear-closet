{
 "cells": [
  {
   "cell_type": "code",
   "execution_count": 2,
   "metadata": {},
   "outputs": [],
   "source": [
    "import shutil\n",
    "import os\n",
    "\n",
    "import pandas as pd\n",
    "from IPython.display import Image, display\n",
    "import requests\n",
    "from PIL import Image as Img\n",
    "from io import BytesIO"
   ]
  },
  {
   "cell_type": "markdown",
   "metadata": {},
   "source": [
    "- `ably - 경로 설정 및 분류하기`"
   ]
  },
  {
   "cell_type": "code",
   "execution_count": 14,
   "metadata": {},
   "outputs": [],
   "source": [
    "ably_composition_list = os.listdir('./composition')\n",
    "\n",
    "# 반복문을 돌면서 하나하나의 이미지에 접근을 한다.\n",
    "for i, ably_image in enumerate(ably_composition_list) :\n",
    "    \n",
    "    # 타겟이 되는 하나의 이미지의 경로와 이름을 설정한다.\n",
    "    from_path = f'./composition/{ably_image}'\n",
    "    \n",
    "    # 새로운 이름을 지정한다. -> 특별한 케이스) 라이더자켓 -> 레더자켓, 투피스 세트 -> 투피스\n",
    "    main = ably_image.split('_')[1]\n",
    "    sub = ably_image.split('_')[2]\n",
    "    \n",
    "    # 띄어쓰기 제거\n",
    "    sub = sub.replace(' ', '')\n",
    "\n",
    "    # 특이 케이스 처리\n",
    "    if sub == '라이더자켓' :\n",
    "        sub = '레더자켓'\n",
    "    \n",
    "    if sub == '투피스세트' :\n",
    "        sub = '투피스'\n",
    "\n",
    "    # 이동시킬 타겟 경로 지정\n",
    "    to_path = f'./datasets/{main}/{sub}/{main}_{sub}_image_{i}.jpg'\n",
    "    \n",
    "    shutil.move(from_path, to_path)\n",
    "    \n",
    "\n",
    "\n"
   ]
  },
  {
   "cell_type": "markdown",
   "metadata": {},
   "source": [
    "- `세부 카테고리 별 숫자번호 정렬하기`"
   ]
  },
  {
   "cell_type": "code",
   "execution_count": 3,
   "metadata": {},
   "outputs": [],
   "source": [
    "# # 대분류 리스트 생성하기\n",
    "# main_list = os.listdir('./datasets')\n",
    "\n",
    "# for main in main_list :\n",
    "#     sub_list = os.listdir(f'./datasets/{main}')\n",
    "#     for sub in sub_list :\n",
    "#         image_list = os.listdir(f'./datasets/{main}/{sub}')\n",
    "#         for i in range(len(image_list)) :\n",
    "#             image = image_list[i]\n",
    "#             image_list[3].split('_')[-1].split('.')[0]\n",
    "#             original_name = f'./datasets/{main}/{sub}/{image}'\n",
    "\n",
    "#             temp = image_list[3].split('_')\n",
    "#             num_jpg = temp[-1]\n",
    "#             num_target = num_jpg.split('.')\n",
    "#             num_target[0] = f'{i+1}'\n",
    "#             new_num = '.'.join(num_target)\n",
    "#             temp[-1] = new_num\n",
    "#             new_image_name = '_'.join(temp)\n",
    "\n",
    "#             changed_name = f'./datasets/{main}/{sub}/{new_image_name}'\n",
    "\n",
    "#             os.rename(original_name, changed_name)"
   ]
  },
  {
   "cell_type": "markdown",
   "metadata": {},
   "source": [
    "- `secondwear - 이미지 추출 및 경로 저장 경로 설정하기`"
   ]
  },
  {
   "cell_type": "code",
   "execution_count": null,
   "metadata": {},
   "outputs": [],
   "source": [
    "# 단일 과정 정리해보기\n",
    "\n",
    "for csv_file in os.listdir('./secondwear_csv2') :\n",
    "\n",
    "    main = csv_file.split('_')[0]\n",
    "    sub = csv_file.split('_')[1].split('.')[0]\n",
    "\n",
    "    if sub == '트레이닝바지' :\n",
    "        sub = '트레이닝조거팬츠'\n",
    "    elif sub == '조거팬츠' :\n",
    "        sub = '트레이닝조거팬츠'\n",
    "    elif sub == '와이셔츠' :\n",
    "        sub = '셔츠블라우스'\n",
    "    elif sub == '블라우스' :\n",
    "        sub = '셔츠블라우스'\n",
    "\n",
    "\n",
    "    root_num = max([image.split('_')[-1].split('.')[0] for image in os.listdir(f'./datasets/{main}/{sub}')])\n",
    "    root = int(root_num)\n",
    "\n",
    "    df = pd.read_csv(f'./secondwear_csv2/{csv_file}')\n",
    "\n",
    "\n",
    "    for i, img_url in enumerate(df['img_url']) :\n",
    "        try :\n",
    "            response = requests.get(img_url)\n",
    "            response.raise_for_status()  \n",
    "            img = Img.open(BytesIO(response.content))\n",
    "\n",
    "            img.save(f'./datasets/{main}/{sub}/{main}_{sub}_image_{int(root_num) + int(i) + 1}.jpg')\n",
    "\n",
    "        except :\n",
    "            print (f'{main}_{sub}_{int(root_num) + int(i) + 1}에서 에러발생')"
   ]
  },
  {
   "cell_type": "markdown",
   "metadata": {},
   "source": [
    "- `musinsa - 이미지 추출 및 경로 저장 경로 설정하기`"
   ]
  },
  {
   "cell_type": "markdown",
   "metadata": {},
   "source": [
    "- 폴더 구조 초기화하기"
   ]
  },
  {
   "cell_type": "code",
   "execution_count": 4,
   "metadata": {},
   "outputs": [],
   "source": [
    "# for main in os.listdir('./musinsa_datasets'):\n",
    "#     for sub in os.listdir(f'./musinsa_datasets/{main}') :\n",
    "#         folder_path = f'./musinsa_datasets/{main}/{sub}'\n",
    "#         if os.path.exists(folder_path):\n",
    "#             # shutil.rmtree() 함수를 사용하여 폴더와 그 안의 모든 내용을 삭제합니다.\n",
    "#             shutil.rmtree(folder_path)\n",
    "#             # 폴더를 다시 생성합니다.\n",
    "#             os.makedirs(folder_path)\n"
   ]
  },
  {
   "cell_type": "code",
   "execution_count": 6,
   "metadata": {},
   "outputs": [
    {
     "name": "stdout",
     "output_type": "stream",
     "text": [
      "아우터_패딩베스트_1021에서 에러발생\n",
      "아우터_패딩베스트_1030에서 에러발생\n",
      "아우터_패딩베스트_1053에서 에러발생\n",
      "아우터_패딩베스트_1081에서 에러발생\n",
      "아우터_패딩베스트_1090에서 에러발생\n",
      "아우터_패딩베스트_1113에서 에러발생\n",
      "아우터_패딩베스트_1141에서 에러발생\n",
      "아우터_패딩베스트_1150에서 에러발생\n",
      "아우터_패딩베스트_1173에서 에러발생\n",
      "아우터_패딩베스트_1201에서 에러발생\n",
      "아우터_패딩베스트_1210에서 에러발생\n",
      "아우터_패딩베스트_1233에서 에러발생\n",
      "아우터_패딩베스트_1261에서 에러발생\n",
      "아우터_패딩베스트_1270에서 에러발생\n",
      "아우터_패딩베스트_1293에서 에러발생\n",
      "원피스_미니원피스_1042에서 에러발생\n",
      "원피스_미니원피스_1055에서 에러발생\n",
      "원피스_미니원피스_1102에서 에러발생\n",
      "원피스_미니원피스_1115에서 에러발생\n",
      "원피스_미니원피스_1162에서 에러발생\n",
      "원피스_미니원피스_1175에서 에러발생\n",
      "원피스_미니원피스_1222에서 에러발생\n",
      "원피스_미니원피스_1235에서 에러발생\n",
      "원피스_미니원피스_1282에서 에러발생\n",
      "원피스_미니원피스_1295에서 에러발생\n",
      "원피스_투피스_125에서 에러발생\n",
      "원피스_투피스_144에서 에러발생\n",
      "원피스_투피스_185에서 에러발생\n",
      "원피스_투피스_204에서 에러발생\n",
      "원피스_투피스_245에서 에러발생\n",
      "원피스_투피스_264에서 에러발생\n",
      "원피스_투피스_305에서 에러발생\n",
      "원피스_투피스_324에서 에러발생\n",
      "원피스_투피스_365에서 에러발생\n",
      "원피스_투피스_384에서 에러발생\n"
     ]
    }
   ],
   "source": [
    "for csv_file in os.listdir('./musinsa_csv2') :\n",
    "\n",
    "    main = csv_file.split('_')[0]\n",
    "    sub = csv_file.split('_')[1].split('.')[0]\n",
    "\n",
    "    if sub == '트레이닝바지' :\n",
    "        sub = '트레이닝조거팬츠'\n",
    "    elif sub == '조거팬츠' :\n",
    "        sub = '트레이닝조거팬츠'\n",
    "    elif sub == '와이셔츠' :\n",
    "        sub = '셔츠블라우스'\n",
    "    elif sub == '블라우스' :\n",
    "        sub = '셔츠블라우스'\n",
    "\n",
    "\n",
    "    root_num = max([image.split('_')[-1].split('.')[0] for image in os.listdir(f'./datasets/{main}/{sub}')])\n",
    "    root = int(root_num)\n",
    "\n",
    "    df = pd.read_csv(f'./musinsa_csv2/{csv_file}')\n",
    "\n",
    "\n",
    "    for i, img_url in enumerate(df['img_url']) :\n",
    "        try :\n",
    "            response = requests.get(img_url)\n",
    "            response.raise_for_status()  \n",
    "            img = Img.open(BytesIO(response.content))\n",
    "\n",
    "            img.save(f'./musinsa_datasets/{main}/{sub}/{main}_{sub}_image_{int(root_num) + int(i) + 1}.jpg')\n",
    "\n",
    "        except :\n",
    "            print (f'{main}_{sub}_{int(root_num) + int(i) + 1}에서 에러발생')"
   ]
  },
  {
   "cell_type": "markdown",
   "metadata": {},
   "source": [
    "- `각 클래스 별 개수 세기`"
   ]
  },
  {
   "cell_type": "code",
   "execution_count": null,
   "metadata": {},
   "outputs": [],
   "source": [
    "for main in os.listdir('./musinsa_datasets') :\n",
    "    for sub in os.listdir(f'./musinsa_datasets/{main}') :\n",
    "        print(f'{main}_{sub}의 이미지 개수 : ',  len(os.listdir(f'./musinsa_datasets/{main}/{sub}')))\n"
   ]
  },
  {
   "cell_type": "markdown",
   "metadata": {},
   "source": [
    "- 카테고리를 옮기는 로직"
   ]
  },
  {
   "cell_type": "code",
   "execution_count": 32,
   "metadata": {},
   "outputs": [],
   "source": [
    "main = '스커트'\n",
    "sub = '미디스커트'\n",
    "\n",
    "num_for_moving = [829,843]\n",
    "\n",
    "target_main = '스커트'\n",
    "target_sub = '롱스커트'\n",
    "\n",
    "max_num = max([image.split('_')[-1].split('.')[0] for image in os.listdir(f'./musinsa_datasets/{main}/{sub}')])\n",
    "\n",
    "for i, num in enumerate(num_for_moving) :\n",
    "    path = f'./musinsa_datasets/{main}/{sub}/{main}_{sub}_image_{num}.jpg'\n",
    "    target_path = f'./musinsa_datasets/{target_main}/{target_sub}/{target_main}_{target_sub}_image_{int(max_num) + int(i) + 1}.jpg'\n",
    "    shutil.move(path, target_path)"
   ]
  },
  {
   "cell_type": "code",
   "execution_count": null,
   "metadata": {},
   "outputs": [],
   "source": []
  }
 ],
 "metadata": {
  "kernelspec": {
   "display_name": "study",
   "language": "python",
   "name": "python3"
  },
  "language_info": {
   "codemirror_mode": {
    "name": "ipython",
    "version": 3
   },
   "file_extension": ".py",
   "mimetype": "text/x-python",
   "name": "python",
   "nbconvert_exporter": "python",
   "pygments_lexer": "ipython3",
   "version": "3.10.13"
  }
 },
 "nbformat": 4,
 "nbformat_minor": 2
}
